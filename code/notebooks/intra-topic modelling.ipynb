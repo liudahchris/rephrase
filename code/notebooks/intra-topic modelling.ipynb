{
 "cells": [
  {
   "cell_type": "markdown",
   "metadata": {},
   "source": [
    "It seems like we discovered genres from the first LDA we performed. Can we discover more topics from within those genres?\n",
    "\n",
    "We can try clustering on the results of our LDA first"
   ]
  },
  {
   "cell_type": "code",
   "execution_count": 21,
   "metadata": {
    "collapsed": true
   },
   "outputs": [],
   "source": [
    "import pandas as pd\n",
    "import numpy as np\n",
    "import sqlite3\n",
    "from sklearn.decomposition import NMF\n",
    "from nltk.corpus import stopwords\n",
    "from unidecode import unidecode\n",
    "from collections import Counter\n",
    "import string"
   ]
  },
  {
   "cell_type": "code",
   "execution_count": 30,
   "metadata": {
    "collapsed": true
   },
   "outputs": [],
   "source": [
    "path = '../../data/lyrics/data/subset_bow_2.csv'\n",
    "df = pd.read_csv(path,index_col=0)"
   ]
  },
  {
   "cell_type": "code",
   "execution_count": 31,
   "metadata": {
    "collapsed": false
   },
   "outputs": [],
   "source": [
    "to_drop = []\n",
    "for ind in df.index:\n",
    "    if df.loc[ind].sum()==0:\n",
    "        to_drop.append(ind)\n",
    "df = df.drop(to_drop)"
   ]
  },
  {
   "cell_type": "code",
   "execution_count": 34,
   "metadata": {
    "collapsed": false
   },
   "outputs": [
    {
     "name": "stderr",
     "output_type": "stream",
     "text": [
      "/Users/christopherliu/anaconda/lib/python2.7/site-packages/ipykernel/__main__.py:5: UnicodeWarning: Unicode equal comparison failed to convert both arguments to Unicode - interpreting them as being unequal\n"
     ]
    }
   ],
   "source": [
    "stop_words = stopwords.words('english') + stopwords.words('spanish') + stopwords.words('german') + stopwords.words('french')\n",
    "col_keep = []\n",
    "for word in df.columns:\n",
    "    if word not in stop_words:\n",
    "        col_keep.append(word)\n",
    "df = df[col_keep]"
   ]
  },
  {
   "cell_type": "code",
   "execution_count": 35,
   "metadata": {
    "collapsed": false
   },
   "outputs": [
    {
     "data": {
      "text/plain": [
       "(2350, 4645)"
      ]
     },
     "execution_count": 35,
     "metadata": {},
     "output_type": "execute_result"
    }
   ],
   "source": [
    "df.shape"
   ]
  },
  {
   "cell_type": "code",
   "execution_count": 64,
   "metadata": {
    "collapsed": true
   },
   "outputs": [],
   "source": [
    "from sklearn.decomposition import LatentDirichletAllocation as LDA\n",
    "n = 18\n",
    "lda = LDA(n_topics=n,max_iter=30,learning_method='online')\n",
    "X = lda.fit_transform(df)"
   ]
  },
  {
   "cell_type": "code",
   "execution_count": 65,
   "metadata": {
    "collapsed": false
   },
   "outputs": [
    {
     "name": "stdout",
     "output_type": "stream",
     "text": [
      "['quiero' 'si' 'amor' 'mas' 'solo' 'corazon' 'vida' 'nunca' 'ser' 'vez']\n",
      "\t\"Angelito (Directo 09)\" by Carlos Baute\n",
      "\t\"Hablando A Un Cristal\" by Cafe Quijano\n",
      "\t\"Celos\" by Obie Bermudez\n",
      "\t\"Tu Robaste Mi Corazon\" by Selena\n",
      "\t\"Estoy Contigo\" by Selena\n",
      "['hey' 'hot' 'roll' 'wish' 'wild' '&' 'gonna' 'push' 'got' 'everybodi']\n",
      "\t\"You Gotta Be Movin'\" by Corona\n",
      "\t\"Abagui Alobi\" by Patience Dabany\n",
      "\t\"Hot Wire [Live Version]\" by Kix\n",
      "\t\"Here I Am\" by Phantom Planet\n",
      "\t\"Stairway To Cleveland\" by Jefferson Starship\n",
      "['like' 'get' 'got' 'know' 'caus' 'make' 'wanna' 'want' 'see' 'say']\n",
      "\t\"Get On Top (Album Version)\" by Red Hot Chili Peppers\n",
      "\t\"Call Me\" by Mint Condition\n",
      "\t\"Miss Elaine\" by RUN-DMC\n",
      "\t\"I'm A Chicken Head (Skit)\" by Cam'Ron\n",
      "\t\"School\" by Nirvana\n",
      "['oh' 'yeah' 'danc' 'ooh' 'ah' 'get' 'take' 'break' 'sexi' 'shake']\n",
      "\t\"Nordmark\" by YGGDRASIL\n",
      "\t\"Contagious\" by Y&T\n",
      "\t\"Pianolude\" by Usher\n",
      "\t\"Sfm\" by Basement Jaxx\n",
      "\t\"This Is How A Heart Breaks\" by Joe McBride\n",
      "['g' 'denk' 'ja' 'immer' 'mehr' 'fur' 'lover' 'rap' 'drum' 'dass']\n",
      "\t\"Denk\" by Samy Deluxe\n",
      "\t\"Ompa Til Du Dor\" by Kaizers Orchestra\n",
      "\t\"Viimeinen lento\" by Kaija Koo\n",
      "\t\"Autofokus\" by K.I.Z.\n",
      "\t\"Rendezvous - Ich hab' Dich seit langem nicht gesehen\" by Jawoll\n",
      "['love' 'come' 'want' 'know' 'tell' 'one' 'give' 'littl' 'never' 'day']\n",
      "\t\"Music And Politics\" by The Disposable Heroes Of Hiphoprisy\n",
      "\t\"A Little Of You\" by Eurythmics\n",
      "\t\"The Date ( LP Version )\" by Scott Weiland\n",
      "\t\"Down On Him\" by Pursuit Of Happiness\n",
      "\t\"Come On-a My House\" by Barbara Lusch\n",
      "['babi' 'let' 'go' 'gonna' 'good' 'song' 'whoa' 'rock' 'take' 'sing']\n",
      "\t\"Don't Upset The Rhythm (Go Baby Go)\" by Noisettes\n",
      "\t\"Raise Your Hands\" by Bon Jovi\n",
      "\t\"Good News\" by Kingston Trio\n",
      "\t\"Good Rocking Tonight\" by Roy Brown\n",
      "\t\"Rock Me (Live In Boston_ 1970) (1st Show)\" by The Doors\n",
      "['know' 'see' 'time' 'feel' 'love' 'never' 'away' 'would' 'say' 'life']\n",
      "\t\"Shooting Stars\" by Cauterize\n",
      "\t\"Nothing To You\" by Milk Inc.\n",
      "\t\"What Are We Here For\" by Gary Moore\n",
      "\t\"Make The World Go Away\" by Ray Price\n",
      "\t\"Never Alone\" by Open Hand\n",
      "['god' 'lord' 'us' 'save' 'blood' 'soul' 'jesus' 'death' 'life' 'live']\n",
      "\t\"Forever Consumed Oblivion\" by Goatwhore\n",
      "\t\"Ability To Create A War\" by A Skylit Drive\n",
      "\t\"You Are God (Broken Album Version)\" by Darwin Hobbs\n",
      "\t\"Honor The Lord (He Holds The Keys Album Version)\" by Steve Green\n",
      "\t\"Shout For Joy  (Celtic Psalms Album Version)\" by Eden's Bridge\n",
      "['night' 'lone' 'river' 'ay' 'take' 'onli' 'woah' 'away' 'savior' 'rollin']\n",
      "\t\"See My Friends\" by Ray Davies\n",
      "\t\"No More Lonely Nights\" by Fiona\n",
      "\t\"Noche De Paz\" by SUMO\n",
      "\t\"Forever\" by VHS Or Beta\n",
      "\t\"Silent Night_ Holy Night! (Album Version)\" by Faith Hill\n",
      "['nao' 'di' 'voce' 'oi' 'meu' 'che' 'alla' 'slap' 'pie' 'quero']\n",
      "\t\"Pode Me Chamar\" by Eddie\n",
      "\t\"24.000 Baci\" by Christos Dantis\n",
      "\t\"Meu Bem Meu Mal (Mi Bien Mi Mal)\" by Gal Costa\n",
      "\t\"Alla Fine Di Tutto Questo\" by Fabri Fibra\n",
      "\t\"Un nuovo giorno\" by Cali\n",
      "['got' 'head' 'get' 'turn' 'old' 'parti' 'street' 'road' 'rock' 'like']\n",
      "\t\"Skit #2 (Kanye West/Late Registration)\" by Kanye West\n",
      "\t\"Spawn (Again)\" by Silverchair\n",
      "\t\"Jingle Bell Rock\" by Bobby Russell\n",
      "\t\"Main Street Eyes\" by Iggy Pop\n",
      "\t\"The Bravest Kids (Acoustic)\" by Rancid\n",
      "['ca' 'na' 'fli' 'stand' 'brown' 'gangsta' 'wing' 'bird' 'town' 'john']\n",
      "\t\"Meteor Of War (Album Version)\" by Rancid\n",
      "\t\"Breathless\" by Lifer\n",
      "\t\"The Letter That Johnny Walker Read\" by Asleep At The Wheel\n",
      "\t\"Vincent\" by Madilu System\n",
      "\t\"Wig\" by The B-52's\n",
      "['right' 'light' 'hell' 'follow' 'white' 'wrong' 'dead' 'angel' 'someth'\n",
      " 'welcom']\n",
      "\t\"Dead Wrong\" by Cancer Bats\n",
      "\t\"Cursed Angel Of Doom (Previously Unreleased&Re-Recorded Track)\" by Behemoth\n",
      "\t\"White Light\" by Gorillaz\n",
      "\t\"Life Deprived\" by Old Man's Child\n",
      "\t\"Welcome To Hell\" by Coffinberry\n",
      "['wait' 'face' 'saturday' 'sail' 'sunday' 'cover' 'jame' 'fade' 'monday'\n",
      " 'friday']\n",
      "\t\"Her Golden Robe In Silence Veiled\" by Autumnblaze\n",
      "\t\"River Is Waiting\" by Irma Thomas\n",
      "\t\"Marrakech\" by ATB\n",
      "\t\"You Appearing\" by M83\n",
      "\t\"James (Hold The Ladder Steady)\" by SUE THOMPSON\n",
      "['satellit' 'hammer' 'depend' 'ann' 'linda' 'v' 'ki' 'co' 'awhil' 'bir']\n",
      "\t\"Prvni vesela\" by Krystof\n",
      "\t\"Iki Tas Corba\" by Mustafa Sandal\n",
      "\t\"Beni Aglatma\" by Mustafa Sandal\n",
      "\t\"Seni Unuturum\" by Ebru Gundes\n",
      "\t\"Ostravaczech\" by Krystof\n",
      "['girl' 'boy' 'dream' 'world' 'morn' 'u' 'woman' 'would' 'easi' 'red']\n",
      "\t\"That Old Gang Of Mine\" by Dean Martin\n",
      "\t\"Girls Against Boys (LP Version)\" by Vitamin C\n",
      "\t\"Jenny Take a Ride\" by Mitch Ryder\n",
      "\t\"In Di Car Back (Album Version)\" by Mavado\n",
      "\t\"Woodcarver\" by Glen Campbell\n",
      "['dan' 'tout' 'cest' 'comm' 'si' 'plus' 'ell' 'mai' 'jai' 'san']\n",
      "\t\"Grand-mere\" by Les Ogres De Barback\n",
      "\t\"Josy\" by Nicolas Bacchus\n",
      "\t\"Au Bout De La Marelle\" by Patrick Bruel\n",
      "\t\"Marcel\" by Pierre Perret\n",
      "\t\"Desole Pour La Poussiere\" by Miossec\n"
     ]
    }
   ],
   "source": [
    "components = lda.components_\n",
    "songs_mask = np.argsort(X,axis=0).T\n",
    "songs_mask = np.array([mask[::-1] for mask in songs_mask])[:,:5]\n",
    "imp_3track_ids = np.array(df.index)[songs_mask]\n",
    "\n",
    "mask=np.array([row[::-1] for row in np.argsort(components,axis=1)])[:,:100]\n",
    "imp_words = np.array(df.columns)[mask]\n",
    "\n",
    "\n",
    "conn = sqlite3.connect('../../data/MillionSongSubset/AdditionalFiles/subset_track_metadata.db')\n",
    "q = \"SELECT title, artist_name FROM songs WHERE track_id = '{}';\"\n",
    "# q2 = \"SELECT title, artist_name FROM songs WHERE track_id = 'TRAWVWS128F42ADCD1';\"\n",
    "# print q.format(imp_track_ids[0])\n",
    "for track_ids, topic in zip(imp_3track_ids,imp_words):\n",
    "    print topic[:10]\n",
    "    formatted = '\\t\"{}\" by {}'\n",
    "    for track_id in track_ids:\n",
    "        song,artist= conn.execute(q.format(track_id)).fetchone()\n",
    "        print formatted.format(unidecode(song), unidecode(artist), topic[0:5])\n",
    "conn.close()"
   ]
  },
  {
   "cell_type": "code",
   "execution_count": 36,
   "metadata": {
    "collapsed": false
   },
   "outputs": [],
   "source": [
    "from sklearn.cluster import KMeans\n",
    "kmean = KMeans(n_clusters=8)"
   ]
  },
  {
   "cell_type": "code",
   "execution_count": 38,
   "metadata": {
    "collapsed": false
   },
   "outputs": [
    {
     "data": {
      "text/plain": [
       "KMeans(algorithm='auto', copy_x=True, init='k-means++', max_iter=300,\n",
       "    n_clusters=8, n_init=10, n_jobs=1, precompute_distances='auto',\n",
       "    random_state=None, tol=0.0001, verbose=0)"
      ]
     },
     "execution_count": 38,
     "metadata": {},
     "output_type": "execute_result"
    }
   ],
   "source": [
    "kmean.fit(X)"
   ]
  },
  {
   "cell_type": "code",
   "execution_count": 39,
   "metadata": {
    "collapsed": false
   },
   "outputs": [
    {
     "data": {
      "text/plain": [
       "array([4, 3, 3, ..., 3, 1, 1], dtype=int32)"
      ]
     },
     "execution_count": 39,
     "metadata": {},
     "output_type": "execute_result"
    }
   ],
   "source": [
    "kmean.predict(X)"
   ]
  },
  {
   "cell_type": "code",
   "execution_count": 40,
   "metadata": {
    "collapsed": false
   },
   "outputs": [
    {
     "data": {
      "text/plain": [
       "Counter({0: 356, 1: 441, 2: 171, 3: 811, 4: 191, 5: 82, 6: 45, 7: 253})"
      ]
     },
     "execution_count": 40,
     "metadata": {},
     "output_type": "execute_result"
    }
   ],
   "source": [
    "Counter(kmean.predict(X))"
   ]
  },
  {
   "cell_type": "code",
   "execution_count": 46,
   "metadata": {
    "collapsed": false
   },
   "outputs": [
    {
     "data": {
      "text/plain": [
       "array([[10, 15,  3,  0, 13,  2, 11, 14,  4,  1, 17,  7, 12, 16,  5,  8,  6,\n",
       "         9],\n",
       "       [ 0, 13, 10, 14,  2,  3, 11, 12,  4,  8,  1,  7, 15, 17,  9,  6,  5,\n",
       "        16],\n",
       "       [ 7, 14,  6, 12,  1,  0,  9, 16,  5,  4,  2, 11,  8, 13, 17, 15, 10,\n",
       "         3],\n",
       "       [15, 11,  3, 10,  0, 13,  2, 14,  4,  1, 17,  7, 12,  5,  8, 16,  9,\n",
       "         6],\n",
       "       [15, 11,  3,  0, 10, 13,  2, 17,  4,  5,  7, 16,  1, 14,  9,  8,  6,\n",
       "        12],\n",
       "       [ 2, 16, 11, 14,  8,  7,  1,  5,  3, 17,  6, 15, 13,  0,  9, 12,  4,\n",
       "        10],\n",
       "       [ 2, 11,  3,  7,  0, 16,  1,  8, 14,  6, 10, 17,  4,  5,  9, 12, 15,\n",
       "        13],\n",
       "       [11,  3, 15, 13, 10,  0,  2, 14,  1, 17,  7,  4, 12,  5, 16,  9,  6,\n",
       "         8]])"
      ]
     },
     "execution_count": 46,
     "metadata": {},
     "output_type": "execute_result"
    }
   ],
   "source": [
    "np.argsort(kmean.cluster_centers_,axis=1)"
   ]
  },
  {
   "cell_type": "markdown",
   "metadata": {},
   "source": [
    "## Do some other stuff"
   ]
  },
  {
   "cell_type": "code",
   "execution_count": 66,
   "metadata": {
    "collapsed": false
   },
   "outputs": [
    {
     "data": {
      "text/plain": [
       "Counter({0: 176,\n",
       "         1: 13,\n",
       "         2: 474,\n",
       "         3: 19,\n",
       "         4: 41,\n",
       "         5: 147,\n",
       "         6: 36,\n",
       "         7: 1061,\n",
       "         8: 100,\n",
       "         9: 8,\n",
       "         10: 26,\n",
       "         11: 109,\n",
       "         12: 11,\n",
       "         13: 14,\n",
       "         14: 11,\n",
       "         15: 4,\n",
       "         16: 18,\n",
       "         17: 82})"
      ]
     },
     "execution_count": 66,
     "metadata": {},
     "output_type": "execute_result"
    }
   ],
   "source": [
    "Counter(np.argmax(X,axis=1))"
   ]
  },
  {
   "cell_type": "code",
   "execution_count": 67,
   "metadata": {
    "collapsed": false
   },
   "outputs": [
    {
     "data": {
      "text/plain": [
       "(array([  24,   88,  124,  227,  228,  239,  397,  423,  425,  449,  609,\n",
       "         615,  618,  650,  769,  785,  844,  860,  874,  892, 1036, 1084,\n",
       "        1117, 1138, 1173, 1331, 1438, 1449, 1465, 1485, 1489, 1531, 1660,\n",
       "        2077, 2196, 2317]),)"
      ]
     },
     "execution_count": 67,
     "metadata": {},
     "output_type": "execute_result"
    }
   ],
   "source": [
    "spanish_topic = np.where(np.argmax(X,axis=1)==3)\n",
    "feelings_topic = np.where(np.argmax(X,axis=1)==6)\n",
    "feelings_topic"
   ]
  },
  {
   "cell_type": "code",
   "execution_count": 70,
   "metadata": {
    "collapsed": false
   },
   "outputs": [],
   "source": [
    "lda2 = LDA(n_topics=8,max_iter=30,learning_method='online')\n",
    "X2 = lda2.fit_transform(df.iloc[feelings_topic])"
   ]
  },
  {
   "cell_type": "code",
   "execution_count": 71,
   "metadata": {
    "collapsed": false
   },
   "outputs": [
    {
     "name": "stdout",
     "output_type": "stream",
     "text": [
      "['whoa' 'oh' 'left' 'gonna' 'fantasi' 'well' 'take' 'jesus' 'say' 'care']\n",
      "\t\"T-Bone\" by T-Bone\n",
      "\t\"Spawn (Again)\" by Silverchair\n",
      "\t\"The Majesty Of Rock\" by Spinal Tap\n",
      "\t\"Obvious ( LP Version )\" by Jane's Addiction\n",
      "\t\"Life Force\" by Vanessa Daou\n",
      "['goin' 'gone' 'rock' 'sound' 'tear' 'round' 'go' 'miss' 'yeah' 'babi']\n",
      "\t\"Rebel Music\" by Wyclef Jean featuring Prodigy of Mobb Deep\n",
      "\t\"Oh My God\" by Sticky Fingaz\n",
      "\t\"Do Ya Thing (Remix) (Explicit Album Version)\" by Cam'Ron\n",
      "\t\"From Tense To Loose To Slack\" by The Keys\n",
      "\t\"The Dynamo Of Volition [From An All Night Session]\" by Jason Mraz\n",
      "['song' 'love' 'action' 'revolut' 'gonna' 'time' 'live' 'comin' 'go' 'big']\n",
      "\t\"Everyone's At It\" by Lily Allen\n",
      "\t\"Fertile Crescent (bonus track)\" by Bad Religion\n",
      "\t\"Zig-Zag Walk\" by Foghat\n",
      "\t\"Rebel Music\" by Wyclef Jean featuring Prodigy of Mobb Deep\n",
      "\t\"Oh My God\" by Sticky Fingaz\n",
      "['chain' 'ah' 'lazi' 'oh' 'whoa' 'far' 'miser' 'got' 'king' 'ca']\n",
      "\t\"Oh My God\" by Sticky Fingaz\n",
      "\t\"Life Force\" by Vanessa Daou\n",
      "\t\"Till We Ain't Strangers Anymore\" by Bon Jovi\n",
      "\t\"Rebel Music\" by Wyclef Jean featuring Prodigy of Mobb Deep\n",
      "\t\"Do Ya Thing (Remix) (Explicit Album Version)\" by Cam'Ron\n",
      "['rock' 'say' 'gonna' 'let' 'one' 'blue' 'come' 'tell' 'clean' 'live']\n",
      "\t\"We Wish You A Merry Christmas\" by SNOWPATROL\n",
      "\t\"Comfort Zone\" by Everyday Sunday\n",
      "\t\"Down In The Hole\" by James Taylor\n",
      "\t\"Autumn's Ablaze (Live)\" by Primordial\n",
      "\t\"California_ Gracefully\" by Every Time I Die\n",
      "['good' 'time' 'mine' 'know' 'sweet' 'lover' 'news' 'comin' 'rememb' 'ah']\n",
      "\t\"Te Mentiria\" by Gian Marco\n",
      "\t\"Family Galaxy\" by Tim Exile\n",
      "\t\"Lillie Anne\" by Chalk Farm\n",
      "\t\"Do Ya Thing (Remix) (Explicit Album Version)\" by Cam'Ron\n",
      "\t\"Jean Dominique Intro\" by Wyclef Jean\n",
      "['go' 'babi' 'let' 'pleas' 'yeah' 'got' 'take' 'love' 'back' 'roll']\n",
      "\t\"Warm Embrace (LP Version)\" by Twista & The Speedknot Mobstaz\n",
      "\t\"Lonely No More\" by Humble Pie\n",
      "\t\"Her Golden Robe In Silence Veiled\" by Autumnblaze\n",
      "\t\"Orgofart\" by Descendents\n",
      "\t\"Need\" by Tyrone Wells\n",
      "['sing' 'wanna' 'rais' 'hand' 'love' 'alright' 'song' 'want' 'one' 'come']\n",
      "\t\"If A Woman Answers\" by Leroy Van Dyke\n",
      "\t\"Whiskey on the Fire\" by Aaron Watson\n",
      "\t\"Zig-Zag Walk\" by Foghat\n",
      "\t\"The Tarnished Angels (remastered)\" by Fehlfarben\n",
      "\t\"Fighters (feat. Matthew Santos) (Amended Album Version)\" by Lupe Fiasco feat. Matthew Santos\n"
     ]
    }
   ],
   "source": [
    "components2 = lda2.components_\n",
    "songs_mask = np.argsort(X2,axis=0).T\n",
    "songs_mask = np.array([mask[::-1] for mask in songs_mask])[:,:5]\n",
    "imp_3track_ids = np.array(df.index)[songs_mask]\n",
    "\n",
    "mask=np.array([row[::-1] for row in np.argsort(components2,axis=1)])[:,:100]\n",
    "imp_words = np.array(df.columns)[mask]\n",
    "\n",
    "\n",
    "conn = sqlite3.connect('../../data/MillionSongSubset/AdditionalFiles/subset_track_metadata.db')\n",
    "q = \"SELECT title, artist_name FROM songs WHERE track_id = '{}';\"\n",
    "# q2 = \"SELECT title, artist_name FROM songs WHERE track_id = 'TRAWVWS128F42ADCD1';\"\n",
    "# print q.format(imp_track_ids[0])\n",
    "for track_ids, topic in zip(imp_3track_ids,imp_words):\n",
    "    print topic[:10]\n",
    "    formatted = '\\t\"{}\" by {}'\n",
    "    for track_id in track_ids:\n",
    "        song,artist= conn.execute(q.format(track_id)).fetchone()\n",
    "        print formatted.format(unidecode(song), unidecode(artist), topic[0:5])\n",
    "conn.close()"
   ]
  },
  {
   "cell_type": "code",
   "execution_count": null,
   "metadata": {
    "collapsed": true
   },
   "outputs": [],
   "source": []
  }
 ],
 "metadata": {
  "kernelspec": {
   "display_name": "Python 2",
   "language": "python",
   "name": "python2"
  },
  "language_info": {
   "codemirror_mode": {
    "name": "ipython",
    "version": 2
   },
   "file_extension": ".py",
   "mimetype": "text/x-python",
   "name": "python",
   "nbconvert_exporter": "python",
   "pygments_lexer": "ipython2",
   "version": "2.7.11"
  }
 },
 "nbformat": 4,
 "nbformat_minor": 0
}
