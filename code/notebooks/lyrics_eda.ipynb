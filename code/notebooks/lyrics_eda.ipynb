{
 "cells": [
  {
   "cell_type": "markdown",
   "metadata": {},
   "source": [
    "# NMF For Topic Modelling "
   ]
  },
  {
   "cell_type": "code",
   "execution_count": 62,
   "metadata": {
    "collapsed": false
   },
   "outputs": [],
   "source": [
    "import pandas as pd\n",
    "import numpy as np\n",
    "from sklearn.decomposition import NMF\n",
    "from nltk.corpus import stopwords\n",
    "from unidecode import unidecode"
   ]
  },
  {
   "cell_type": "code",
   "execution_count": 2,
   "metadata": {
    "collapsed": false
   },
   "outputs": [],
   "source": [
    "path = '../../data/lyrics/data/subset_bof.csv'\n",
    "df = pd.read_csv(path,index_col=0)"
   ]
  },
  {
   "cell_type": "code",
   "execution_count": 5,
   "metadata": {
    "collapsed": false
   },
   "outputs": [
    {
     "data": {
      "text/html": [
       "<div>\n",
       "<table border=\"1\" class=\"dataframe\">\n",
       "  <thead>\n",
       "    <tr style=\"text-align: right;\">\n",
       "      <th></th>\n",
       "      <th>i</th>\n",
       "      <th>the</th>\n",
       "      <th>you</th>\n",
       "      <th>to</th>\n",
       "      <th>and</th>\n",
       "      <th>a</th>\n",
       "      <th>me</th>\n",
       "      <th>it</th>\n",
       "      <th>not</th>\n",
       "      <th>in</th>\n",
       "      <th>...</th>\n",
       "      <th>writer</th>\n",
       "      <th>motivo</th>\n",
       "      <th>bake</th>\n",
       "      <th>insist</th>\n",
       "      <th>wel</th>\n",
       "      <th>santo</th>\n",
       "      <th>pe</th>\n",
       "      <th>gee</th>\n",
       "      <th>colleg</th>\n",
       "      <th>kad</th>\n",
       "    </tr>\n",
       "  </thead>\n",
       "  <tbody>\n",
       "    <tr>\n",
       "      <th>TRAYYAU128F92D58D0</th>\n",
       "      <td>0.0</td>\n",
       "      <td>3.0</td>\n",
       "      <td>4.0</td>\n",
       "      <td>2.0</td>\n",
       "      <td>4.0</td>\n",
       "      <td>5.0</td>\n",
       "      <td>0.0</td>\n",
       "      <td>0.0</td>\n",
       "      <td>7.0</td>\n",
       "      <td>0.0</td>\n",
       "      <td>...</td>\n",
       "      <td>0.0</td>\n",
       "      <td>0.0</td>\n",
       "      <td>0.0</td>\n",
       "      <td>0.0</td>\n",
       "      <td>0.0</td>\n",
       "      <td>0.0</td>\n",
       "      <td>0.0</td>\n",
       "      <td>0.0</td>\n",
       "      <td>0.0</td>\n",
       "      <td>0.0</td>\n",
       "    </tr>\n",
       "    <tr>\n",
       "      <th>TRARURM128F931A91B</th>\n",
       "      <td>5.0</td>\n",
       "      <td>5.0</td>\n",
       "      <td>9.0</td>\n",
       "      <td>2.0</td>\n",
       "      <td>0.0</td>\n",
       "      <td>4.0</td>\n",
       "      <td>0.0</td>\n",
       "      <td>1.0</td>\n",
       "      <td>2.0</td>\n",
       "      <td>0.0</td>\n",
       "      <td>...</td>\n",
       "      <td>0.0</td>\n",
       "      <td>0.0</td>\n",
       "      <td>0.0</td>\n",
       "      <td>0.0</td>\n",
       "      <td>0.0</td>\n",
       "      <td>0.0</td>\n",
       "      <td>0.0</td>\n",
       "      <td>0.0</td>\n",
       "      <td>0.0</td>\n",
       "      <td>0.0</td>\n",
       "    </tr>\n",
       "    <tr>\n",
       "      <th>TRAMSSK128F92FDC80</th>\n",
       "      <td>8.0</td>\n",
       "      <td>13.0</td>\n",
       "      <td>5.0</td>\n",
       "      <td>1.0</td>\n",
       "      <td>6.0</td>\n",
       "      <td>4.0</td>\n",
       "      <td>1.0</td>\n",
       "      <td>0.0</td>\n",
       "      <td>5.0</td>\n",
       "      <td>7.0</td>\n",
       "      <td>...</td>\n",
       "      <td>0.0</td>\n",
       "      <td>0.0</td>\n",
       "      <td>0.0</td>\n",
       "      <td>0.0</td>\n",
       "      <td>0.0</td>\n",
       "      <td>0.0</td>\n",
       "      <td>0.0</td>\n",
       "      <td>0.0</td>\n",
       "      <td>0.0</td>\n",
       "      <td>0.0</td>\n",
       "    </tr>\n",
       "    <tr>\n",
       "      <th>TRAAMPA128F92E7D0D</th>\n",
       "      <td>17.0</td>\n",
       "      <td>0.0</td>\n",
       "      <td>4.0</td>\n",
       "      <td>4.0</td>\n",
       "      <td>5.0</td>\n",
       "      <td>20.0</td>\n",
       "      <td>8.0</td>\n",
       "      <td>18.0</td>\n",
       "      <td>2.0</td>\n",
       "      <td>0.0</td>\n",
       "      <td>...</td>\n",
       "      <td>0.0</td>\n",
       "      <td>0.0</td>\n",
       "      <td>0.0</td>\n",
       "      <td>0.0</td>\n",
       "      <td>0.0</td>\n",
       "      <td>0.0</td>\n",
       "      <td>0.0</td>\n",
       "      <td>0.0</td>\n",
       "      <td>0.0</td>\n",
       "      <td>0.0</td>\n",
       "    </tr>\n",
       "    <tr>\n",
       "      <th>TRAWHZK12903CB5A01</th>\n",
       "      <td>18.0</td>\n",
       "      <td>1.0</td>\n",
       "      <td>3.0</td>\n",
       "      <td>6.0</td>\n",
       "      <td>0.0</td>\n",
       "      <td>2.0</td>\n",
       "      <td>0.0</td>\n",
       "      <td>1.0</td>\n",
       "      <td>5.0</td>\n",
       "      <td>0.0</td>\n",
       "      <td>...</td>\n",
       "      <td>0.0</td>\n",
       "      <td>0.0</td>\n",
       "      <td>0.0</td>\n",
       "      <td>0.0</td>\n",
       "      <td>0.0</td>\n",
       "      <td>0.0</td>\n",
       "      <td>0.0</td>\n",
       "      <td>0.0</td>\n",
       "      <td>0.0</td>\n",
       "      <td>0.0</td>\n",
       "    </tr>\n",
       "  </tbody>\n",
       "</table>\n",
       "<p>5 rows × 5000 columns</p>\n",
       "</div>"
      ],
      "text/plain": [
       "                       i   the  you   to  and     a   me    it  not   in ...   \\\n",
       "TRAYYAU128F92D58D0   0.0   3.0  4.0  2.0  4.0   5.0  0.0   0.0  7.0  0.0 ...    \n",
       "TRARURM128F931A91B   5.0   5.0  9.0  2.0  0.0   4.0  0.0   1.0  2.0  0.0 ...    \n",
       "TRAMSSK128F92FDC80   8.0  13.0  5.0  1.0  6.0   4.0  1.0   0.0  5.0  7.0 ...    \n",
       "TRAAMPA128F92E7D0D  17.0   0.0  4.0  4.0  5.0  20.0  8.0  18.0  2.0  0.0 ...    \n",
       "TRAWHZK12903CB5A01  18.0   1.0  3.0  6.0  0.0   2.0  0.0   1.0  5.0  0.0 ...    \n",
       "\n",
       "                    writer  motivo  bake  insist  wel  santo   pe  gee  \\\n",
       "TRAYYAU128F92D58D0     0.0     0.0   0.0     0.0  0.0    0.0  0.0  0.0   \n",
       "TRARURM128F931A91B     0.0     0.0   0.0     0.0  0.0    0.0  0.0  0.0   \n",
       "TRAMSSK128F92FDC80     0.0     0.0   0.0     0.0  0.0    0.0  0.0  0.0   \n",
       "TRAAMPA128F92E7D0D     0.0     0.0   0.0     0.0  0.0    0.0  0.0  0.0   \n",
       "TRAWHZK12903CB5A01     0.0     0.0   0.0     0.0  0.0    0.0  0.0  0.0   \n",
       "\n",
       "                    colleg  kad  \n",
       "TRAYYAU128F92D58D0     0.0  0.0  \n",
       "TRARURM128F931A91B     0.0  0.0  \n",
       "TRAMSSK128F92FDC80     0.0  0.0  \n",
       "TRAAMPA128F92E7D0D     0.0  0.0  \n",
       "TRAWHZK12903CB5A01     0.0  0.0  \n",
       "\n",
       "[5 rows x 5000 columns]"
      ]
     },
     "execution_count": 5,
     "metadata": {},
     "output_type": "execute_result"
    }
   ],
   "source": [
    "df.head()"
   ]
  },
  {
   "cell_type": "markdown",
   "metadata": {},
   "source": [
    "### How Sparse Is Our Data?"
   ]
  },
  {
   "cell_type": "code",
   "execution_count": 12,
   "metadata": {
    "collapsed": false
   },
   "outputs": [
    {
     "data": {
      "text/plain": [
       "0.99460578204103389"
      ]
     },
     "execution_count": 12,
     "metadata": {},
     "output_type": "execute_result"
    }
   ],
   "source": [
    "(df==0).sum().sum()/np.product(df.shape).astype(float)"
   ]
  },
  {
   "cell_type": "markdown",
   "metadata": {},
   "source": [
    "### Try NMF"
   ]
  },
  {
   "cell_type": "code",
   "execution_count": 142,
   "metadata": {
    "collapsed": false
   },
   "outputs": [],
   "source": [
    "n = 30\n",
    "nmf = NMF(n_components=n,init='random')"
   ]
  },
  {
   "cell_type": "code",
   "execution_count": 143,
   "metadata": {
    "collapsed": true
   },
   "outputs": [],
   "source": [
    "# subset = df.values[:,:1500]\n",
    "W = nmf.fit_transform(df)\n",
    "H=nmf.components_"
   ]
  },
  {
   "cell_type": "code",
   "execution_count": 144,
   "metadata": {
    "collapsed": false
   },
   "outputs": [],
   "source": [
    "mask=np.array([row[::-1] for row in np.argsort(H,axis=1)])[:,:100]"
   ]
  },
  {
   "cell_type": "code",
   "execution_count": 145,
   "metadata": {
    "collapsed": false
   },
   "outputs": [],
   "source": [
    "possible = np.array(df.columns)[mask]"
   ]
  },
  {
   "cell_type": "code",
   "execution_count": 146,
   "metadata": {
    "collapsed": false
   },
   "outputs": [],
   "source": [
    "stop_words = stopwords.words('english') + stopwords.words('spanish') + stopwords.words('german') + stopwords.words('french')\n",
    "filtered = np.array([[word for word in topic  if word not in stop_words] for topic in possible])"
   ]
  },
  {
   "cell_type": "code",
   "execution_count": null,
   "metadata": {
    "collapsed": true
   },
   "outputs": [],
   "source": []
  },
  {
   "cell_type": "code",
   "execution_count": 147,
   "metadata": {
    "collapsed": false
   },
   "outputs": [
    {
     "name": "stdout",
     "output_type": "stream",
     "text": [
      "['come', 'get', 'top', 'caus', 'bottom', 'cop', 'pick', 'block', 'knock', 'give']\n",
      "['know', 'wanna', 'realli', 'alright', 'want', 'done', 'noth', 'gonna', 'nobodi', 'leav']\n",
      "['time', 'littl', 'eye', 'end', 'life', 'one', 'fall', 'soul', 'lie', 'thought']\n",
      "['head', 'like', 'one', 'see', 'music', 'world', 'fuck', 'rock', 'got', 'hit']\n",
      "['know', 'would', 'need', 'whi', 'feel', 'could', 'never', 'see', 'way', 'said']\n",
      "['like', 'niggaz', 'next', 'fuck', 'na', 'wish', 'want', 'drinkin', 'drink', 'ghetto']\n",
      "['round', 'make', 'said', 'say', 'start', 'onli', 'eye', 'well', 'face', 'hold']\n",
      "['love', 'babi', 'song', 'girl', 'heart', 'g', 'onli', 'show', 'first', 'give']\n",
      "['quiero', 'si', 'amor', 'mas', 'ser', 'vida', 'solo', 'nunca', 'ahora', 'vez']\n",
      "['let', 'tell', 'like', 'get', 'take', 'got', 'yeah', 'rain', 'feel', 'make']\n",
      "['go', 'babi', 'let', 'rhythm', 'upset', 'hey', 'girl', 'tell', 'time', 'say']\n",
      "['like', 'get', 'gonna', 'caus', 'never', 'tonight', 'fuck', 'nigga', 'yeah', 'bad']\n",
      "['one', 'gonna', 'everyth', 'onli', 'heart', 'time', 'world', 'anoth', 'feel', 'yeah']\n",
      "['like', 'littl', 'got', 'boy', 'kick', 'song', 'gal', 'caus', 'day', 'wit']\n",
      "['denk', 'immer', 'mehr', 'yeah', 'rap', 'sag', 'brauch', 'mal', 'welt', 'geld']\n",
      "['help', 'call', 'tell', 'make', 'wanna', 'whoa', 'need', 'hear', 'feel', 'like']\n",
      "['girl', 'woman', 'di', 'ah', 'gone', 'talk', 'danc', 'ride', 'town', 'alway']\n",
      "['dan', 'tout', 'ell', 'cest', 'plus', 'mai', 'comm', 'si', 'jai', 'petit']\n",
      "['right', 'time', 'night', 'girl', 'would', 'good', 'day', 'even', 'yeah', 'give']\n",
      "['life', 'hous', 'got', 'heart', 'back', 'god', 'saw', 'hood', 'dream', 'give']\n",
      "['day', 'hood', 'first', 'get', 'nigga', 'start', 'see', 'look', 'put', 'hole']\n",
      "['us', 'never', 'thing', 'know', 'go', 'togeth', 'everi', 'live', 'magic', 'way']\n",
      "['know', 'see', 'think', 'want', 'better', 'feel', 'littl', 'wanna', 'around', 'need']\n",
      "['ca', 'got', 'ohh', 'feel', 'away', 'g', 'say', 'take', 'back', 'tri']\n",
      "['whi', 'hot', 'coz', 'song', 'say', 'life', 'fli', 'everyth', 'hit', 'time']\n",
      "['know', 'play', 'nigga', 'could', 'would', 'way', 'said', 'one', 'never', 'turn']\n",
      "['want', 'got', 'tri', 'make', 'back', 'pop', 'keep', 'use', 'life', 'need']\n",
      "['say', 'follow', 'never', 'come', 'leader', 'one', 'away', 'see', 'wait', 'right']\n",
      "['oh', 'yeah', 'bye', 'ooh', 'whoa', 'way', 'take', 'hey', 'new', 'wow']\n",
      "['mind', 'chang', 'let', 'back', 'take', 'hand', 'tell', 'daddi', 'yeah', 'away']\n"
     ]
    }
   ],
   "source": [
    "for topic in filtered:\n",
    "    print topic[:10]"
   ]
  },
  {
   "cell_type": "code",
   "execution_count": 155,
   "metadata": {
    "collapsed": false
   },
   "outputs": [
    {
     "data": {
      "text/plain": [
       "array([2, 0, 2, ..., 0, 0, 0])"
      ]
     },
     "execution_count": 155,
     "metadata": {},
     "output_type": "execute_result"
    }
   ],
   "source": [
    "np.argmax(W,axis=1)"
   ]
  },
  {
   "cell_type": "code",
   "execution_count": 156,
   "metadata": {
    "collapsed": false
   },
   "outputs": [
    {
     "data": {
      "text/plain": [
       "Counter({0: 5359,\n",
       "         1: 418,\n",
       "         2: 791,\n",
       "         3: 217,\n",
       "         4: 248,\n",
       "         5: 6,\n",
       "         6: 2,\n",
       "         7: 4,\n",
       "         8: 187,\n",
       "         9: 64,\n",
       "         10: 1,\n",
       "         11: 11,\n",
       "         12: 51,\n",
       "         13: 6,\n",
       "         14: 30,\n",
       "         15: 28,\n",
       "         16: 2,\n",
       "         17: 49,\n",
       "         18: 1,\n",
       "         19: 4,\n",
       "         20: 4,\n",
       "         21: 7,\n",
       "         23: 9,\n",
       "         25: 1,\n",
       "         27: 3,\n",
       "         28: 3})"
      ]
     },
     "execution_count": 156,
     "metadata": {},
     "output_type": "execute_result"
    }
   ],
   "source": [
    "from collections import Counter\n",
    "c = Counter(np.argmax(W,axis=1))\n",
    "c"
   ]
  },
  {
   "cell_type": "markdown",
   "metadata": {
    "collapsed": true
   },
   "source": [
    "### Try LDA"
   ]
  },
  {
   "cell_type": "code",
   "execution_count": 3,
   "metadata": {
    "collapsed": true
   },
   "outputs": [],
   "source": [
    "from sklearn.decomposition import LatentDirichletAllocation as LDA"
   ]
  },
  {
   "cell_type": "code",
   "execution_count": 75,
   "metadata": {
    "collapsed": true
   },
   "outputs": [],
   "source": [
    "n = 30\n",
    "lda = LDA(n_topics=n)"
   ]
  },
  {
   "cell_type": "code",
   "execution_count": 76,
   "metadata": {
    "collapsed": false
   },
   "outputs": [
    {
     "name": "stderr",
     "output_type": "stream",
     "text": [
      "/Users/christopherliu/anaconda/lib/python2.7/site-packages/sklearn/decomposition/online_lda.py:508: DeprecationWarning: The default value for 'learning_method' will be changed from 'online' to 'batch' in the release 0.20. This warning was introduced in 0.18.\n",
      "  DeprecationWarning)\n"
     ]
    }
   ],
   "source": [
    "X = lda.fit_transform(df)"
   ]
  },
  {
   "cell_type": "code",
   "execution_count": 125,
   "metadata": {
    "collapsed": false
   },
   "outputs": [
    {
     "name": "stdout",
     "output_type": "stream",
     "text": [
      "['get', 'like', 'nigga', 'shit', 'fuck', 'em', 'yall', 'hot', 'parti', 'hit', 'beat', 'bitch']\n",
      "['love', 'know', 'want', 'would', 'feel', 'say', 'time', 'never', 'ca', 'see', 'thing', 'one']\n",
      "['victim', 'disconnect', 'p', 'circumst', 'robot', 'ow', 'june', 'leaf', 'balloon', 'aha', 'jim', 'santa']\n",
      "['like', 'got', 'get', 'make', 'back', 'know', 'go', 'take', 'caus', 'see', 'well', 'gonna']\n",
      "['nah', 'final', 'oi', 'favor', 'spoon', 'dat', 'oper', 'ei', 'possibl', 'metal', 'devil', 'worm']\n",
      "['na', 'meu', 'cantar', 'quero', 'pra', 'sem', 'seu', 'com', 'vou', 'minha', 'tal', 'mim']\n",
      "['volta', 'tenho', 'ficar', 'ond', 'sail', 'sempr', 'lua', 'ann', 'come', 'joe', 'say', 'see']\n",
      "['song', 'old', 'said', 'stand', 'round', 'jesus', '&', 'goin', 'play', 'start', 'never', 'tonight']\n",
      "['babi', 'let', 'go', 'ay', 'take', 'fantasi', 'got', 'ladi', 'blame', 'cant', 'wont', 'tonight']\n",
      "['denk', 'immer', 'mehr', 'jag', 'ja', 'ab', 'rap', 'gibt', 'nein', 'seh', 'mal', 'och']\n",
      "['rain', 'fire', 'chorus', 'heaven', 'black', 'bottom', 'natur', 'jah', 'savior', 'fi', 'pure', 'desir']\n",
      "['cruel', 'bo', 'dum', 'rave', 'mississippi', 'doo', 'bald', 'anch', 'sento', 'pone', 'stitch', 'kaikki']\n",
      "['dame', 'basta', 'georgia', 'oer', 'bonni', 'ahhh', 'frei', 'vale', 'submit', 'debo', 'amo', 'misma']\n",
      "['togeth', 'forev', 'lie', 'anoth', 'help', 'lover', 'fall', 'control', 'u', 'sweet', 'love', 'littl']\n",
      "['oh', 'hey', 'danc', 'music', 'alright', 'everybodi', 'woman', 'pleas', 'gonna', 'talk', 'white', 'hous']\n",
      "['come', 'turn', 'sail', 'jame', 'fade', 'weather', 'salli', 'wait', 'field', 'ladder', 'grass', 'hungri']\n",
      "['rock', 'roll', 'chao', 'linda', 'whatcha', 'pig', 'sha', 'scienc', 'glimps', 'gasolin', 'commit', 'assassin']\n",
      "['yeah', 'oh', 'night', 'ah', 'ooh', 'ca', 'whoa', 'take', 'heart', 'away', 'break', 'ohh']\n",
      "['famili', 'trembl', 'cotton', 'negra', 'attitud', 'rocket', 'tempo', 'coal', 'cambiar', 'map', 'amongst', 'fiesta']\n",
      "['world', 'life', 'god', 'light', 'one', 'lord', 'live', 'see', 'save', 'us', 'sing', 'time']\n",
      "['girl', 'gone', 'town', 'night', 'brown', 'left', 'friend', 'mari', 'monday', 'river', 'see', 'arriv']\n",
      "['men', 'till', 'som', 'har', 'kan', 'det', 'ur', 'oo', 'vi', 'vill', 'nu', 'av']\n",
      "['dan', 'cest', 'tout', 'si', 'mai', 'comm', 'plus', 'ell', 'jai', 'san', 'vie', 'petit']\n",
      "['saturday', 'sunday', 'friday', 'tuesday', 'sugar', 'envi', 'vain', 'willow', 'niin', 'sua', 'lento', 'kun']\n",
      "['nuh', 'olvidar', 'sol', 'vultur', 'quedan', 'caso', 'yuh', 'sola', 'sanctuari', 'cae', 'ko', 'quieren']\n",
      "['quiero', 'si', 'amor', 'mas', 'solo', 'nunca', 'ser', 'vida', 'vez', 'porqu', 'tiempo', 'hace']\n",
      "['us', 'rememb', 'wish', 'see', 'year', 'thing', 'go', 'christma', 'ride', 'hope', 'never', 'care']\n",
      "['slap', 'satellit', 'pare', 'devour', 'rosa', 'mag', 'diablo', 'pedir', 'vuelto', 'corr', 'herz', 'letzt']\n",
      "['day', 'eye', 'dream', 'one', 'burn', 'sky', 'night', 'away', 'mind', 'onli', 'road', 'time']\n",
      "['vamo', 'samba', 'tres', 'decay', 'hermano', 'essa', 'mend', 'creo', 'llego', 'blanco', 'canta', 'mexico']\n"
     ]
    },
    {
     "name": "stderr",
     "output_type": "stream",
     "text": [
      "/Users/christopherliu/anaconda/lib/python2.7/site-packages/ipykernel/__main__.py:5: UnicodeWarning: Unicode equal comparison failed to convert both arguments to Unicode - interpreting them as being unequal\n"
     ]
    }
   ],
   "source": [
    "components = lda.components_\n",
    "mask=np.array([row[::-1] for row in np.argsort(components,axis=1)])[:,:100]\n",
    "possible = np.array(df.columns)[mask]\n",
    "stop_words = stopwords.words('english') + stopwords.words('spanish') + stopwords.words('german') + stopwords.words('french')\n",
    "filtered = np.array([[word for word in topic  if word not in stop_words] for topic in possible])\n",
    "\n",
    "for topic in filtered:\n",
    "    print topic[:12]"
   ]
  },
  {
   "cell_type": "code",
   "execution_count": 101,
   "metadata": {
    "collapsed": false
   },
   "outputs": [
    {
     "data": {
      "text/plain": [
       "(7506, 30)"
      ]
     },
     "execution_count": 101,
     "metadata": {},
     "output_type": "execute_result"
    }
   ],
   "source": [
    "ind_mask = np.argmax(X,axis=0)\n",
    "ind_mask.shape\n",
    "X.shape"
   ]
  },
  {
   "cell_type": "code",
   "execution_count": 79,
   "metadata": {
    "collapsed": false
   },
   "outputs": [],
   "source": [
    "imp_track_ids = np.array(df.index)[ind_mask]"
   ]
  },
  {
   "cell_type": "code",
   "execution_count": 80,
   "metadata": {
    "collapsed": false
   },
   "outputs": [
    {
     "name": "stdout",
     "output_type": "stream",
     "text": [
      "\"You Gotta Be Movin'\" by Corona, Keywords: ['get', 'ya', 'like', 'nigga', 'shit']\n",
      "\"It's Not Me\" by 3 Doors Down, Keywords: ['love', 'know', 'want', 'would', 'feel']\n",
      "\"Victim Of Circumstance\" by Ten Years After, Keywords: ['victim', 'disconnect', 'p', 'circumst', 'robot']\n",
      "\"Give It To 'Em\" by Chops, Keywords: ['like', 'got', 'get', 'make', 'back']\n",
      "\"Beni Aglatma\" by Mustafa Sandal, Keywords: ['nah', 'final', 'oi', 'favor', 'spoon']\n",
      "\"Meu Bem Meu Mal (Mi Bien Mi Mal)\" by Gal Costa, Keywords: ['na', 'e', 'eu', 'um', 'meu']\n",
      "\"Civilized Reggae\" by Burning Spear, Keywords: ['volta', 'tenho', 'ficar', 'ond', 'sail']\n",
      "\"Whiskey on the Fire\" by Aaron Watson, Keywords: ['song', 'man', 'old', 'said', 'stand']\n",
      "\"Don't Upset The Rhythm (Go Baby Go)\" by Noisettes, Keywords: ['babi', 'let', 'go', 'ay', 'take']\n",
      "\"Mein Herz kann man nicht kaufen\" by Gall_ France, Keywords: ['ich', 'und', 'du', 'die', 'das']\n",
      "\"Cursed Angel Of Doom (Previously Unreleased&Re-Recorded Track)\" by Behemoth, Keywords: ['rain', 'fire', 'chorus', 'heaven', 'black']\n",
      "\"Laakista humppa\" by Elakelaiset, Keywords: ['cruel', 'bo', 'dum', 'rave', 'mississippi']\n",
      "\"Ya Basta\" by Jay Perez, Keywords: ['dame', 'basta', 'georgia', 'oer', 'bonni']\n",
      "\"Orgofart\" by Descendents, Keywords: ['togeth', 'forev', 'lie', 'anoth', 'help']\n",
      "\"Alla Fine Di Tutto Questo\" by Fabri Fibra, Keywords: ['oh', 'hey', 'danc', 'music', 'alright']\n",
      "\"River Is Waiting\" by Irma Thomas, Keywords: ['come', 'turn', 'sail', 'jame', 'fade']\n",
      "\"Myth Takes\" by !!!, Keywords: ['rock', 'roll', 'n', 'chao', 'linda']\n",
      "\"Slipping Away\" by Vivian, Keywords: ['yeah', 'oh', 'night', 'ah', 'ooh']\n",
      "\"E Samba (Accapella)\" by Junior Jack, Keywords: ['famili', 'trembl', 'cotton', 'negra', 'attitud']\n",
      "\"Facedown\" by Matt Redman, Keywords: ['world', 'life', 'god', 'light', 'one']\n",
      "\"See My Friends\" by Ray Davies, Keywords: ['girl', 'gone', 'town', 'night', 'brown']\n",
      "\"Grottans Barn\" by Finntroll, Keywords: ['men', 'till', 'som', 'har', 'kan']\n",
      "\"Ramene Moi\" by Lara Fabian, Keywords: ['la', 'de', 'je', 'et', 'les']\n",
      "\"Ihmisen Lento\" by Indica, Keywords: ['saturday', 'sunday', 'friday', 'tuesday', 'sugar']\n",
      "\"Cuatro Estrofas\" by Sandra Mihanovich, Keywords: ['nuh', 'olvidar', 'sol', 'vultur', 'quedan']\n",
      "\"Tu Robaste Mi Corazon\" by Selena, Keywords: ['que', 'de', 'la', 'te', 'en']\n",
      "\"We Wish You A Merry Christmas\" by SNOWPATROL, Keywords: ['us', 'rememb', 'wish', 'see', 'year']\n",
      "\"Slap U Around\" by GWAR, Keywords: ['slap', 'satellit', 'pare', 'devour', 'rosa']\n",
      "\"A Void Of Lifeless Dreams\" by Limbonic Art, Keywords: ['day', 'eye', 'dream', 'one', 'burn']\n",
      "\"E Samba (Accapella)\" by Junior Jack, Keywords: ['vamo', 'samba', 'tres', 'decay', 'hermano']\n"
     ]
    }
   ],
   "source": [
    "conn = sqlite3.connect('../../data/MillionSongSubset/AdditionalFiles/subset_track_metadata.db')\n",
    "q = \"SELECT title, artist_name FROM songs WHERE track_id = '{}';\"\n",
    "# q2 = \"SELECT title, artist_name FROM songs WHERE track_id = 'TRAWVWS128F42ADCD1';\"\n",
    "# print q.format(imp_track_ids[0])\n",
    "for track_id, topic in zip(imp_track_ids,filtered):\n",
    "    song,artist= conn.execute(q.format(track_id)).fetchone()\n",
    "    formatted = '\"{}\" by {}, Keywords: {}'\n",
    "    print formatted.format(unidecode(song), unidecode(artist), topic[0:5])\n",
    "conn.close()"
   ]
  },
  {
   "cell_type": "code",
   "execution_count": 127,
   "metadata": {
    "collapsed": false
   },
   "outputs": [],
   "source": [
    "songs_mask = np.argsort(X,axis=0).T\n",
    "songs_mask = np.array([mask[::-1] for mask in songs_mask])[:,:5]\n"
   ]
  },
  {
   "cell_type": "code",
   "execution_count": null,
   "metadata": {
    "collapsed": false
   },
   "outputs": [],
   "source": []
  },
  {
   "cell_type": "code",
   "execution_count": 130,
   "metadata": {
    "collapsed": false
   },
   "outputs": [],
   "source": [
    "imp_3track_ids = np.array(df.index)[songs_mask]\n"
   ]
  },
  {
   "cell_type": "code",
   "execution_count": 131,
   "metadata": {
    "collapsed": false
   },
   "outputs": [
    {
     "name": "stdout",
     "output_type": "stream",
     "text": [
      "['get', 'like', 'nigga', 'shit', 'fuck', 'em', 'yall', 'hot', 'parti', 'hit']\n",
      "\t\"You Gotta Be Movin'\" by Corona\n",
      "\t\"Da Da Da Da\" by Tha Liks\n",
      "\t\"Spelling Beatnuts with Lil' Donny\" by Beatnuts with Lil' Donny\n",
      "\t\"I'ma Bang\" by DMX\n",
      "\t\"We Got What You Want\" by Busta Rhymes\n",
      "['love', 'know', 'want', 'would', 'feel', 'say', 'time', 'never', 'ca', 'see']\n",
      "\t\"It's Not Me\" by 3 Doors Down\n",
      "\t\"Never Alone\" by Open Hand\n",
      "\t\"What You Deserve (Album Version)\" by Ill Nino\n",
      "\t\"I Don't Know\" by Teenage Fanclub\n",
      "\t\"No Answer (Outro)\" by Lollipop Lust Kill\n",
      "['victim', 'disconnect', 'p', 'circumst', 'robot', 'ow', 'june', 'leaf', 'balloon', 'aha']\n",
      "\t\"Victim Of Circumstance\" by Ten Years After\n",
      "\t\"Disconnected\" by Cowboy Mouth\n",
      "\t\"CNN War Theme\" by Monster Magnet\n",
      "\t\"Power Shower\" by Caspa\n",
      "\t\"Tocame\" by Gisselle\n",
      "['like', 'got', 'get', 'make', 'back', 'know', 'go', 'take', 'caus', 'see']\n",
      "\t\"Give It To 'Em\" by Chops\n",
      "\t\"Early In The Morning\" by B.B. King\n",
      "\t\"Hypergasm\" by Chaotica\n",
      "\t\"Is It Clean (Ethereal - Progressive)\" by The Gone Jackals\n",
      "\t\"Bad Seed\" by Wayne Kramer\n",
      "['nah', 'final', 'oi', 'favor', 'spoon', 'dat', 'oper', 'ei', 'possibl', 'metal']\n",
      "\t\"Beni Aglatma\" by Mustafa Sandal\n",
      "\t\"Isku Pitkasta Ilosta\" by Korpiklaani\n",
      "\t\"Iki Tas Corba\" by Mustafa Sandal\n",
      "\t\"Nacao\" by Clara Nunes\n",
      "\t\"Segredo\" by Joao Gilberto\n",
      "['na', 'meu', 'cantar', 'quero', 'pra', 'sem', 'seu', 'com', 'vou', 'minha']\n",
      "\t\"Meu Bem Meu Mal (Mi Bien Mi Mal)\" by Gal Costa\n",
      "\t\"Pode Me Chamar\" by Eddie\n",
      "\t\"Proibida Pra Mim (Grazon)\" by Zeca Baleiro\n",
      "\t\"Nostradamus\" by Eduardo Dusek\n",
      "\t\"Canto Triste\" by Edu Lobo\n",
      "['volta', 'tenho', 'ficar', 'ond', 'sail', 'sempr', 'lua', 'ann', 'come', 'joe']\n",
      "\t\"Power Shower\" by Caspa\n",
      "\t\"Malice\" by Behemoth\n",
      "\t\"Tocame\" by Gisselle\n",
      "\t\"Skylark\" by Ann Hampton Callaway\n",
      "\t\"Room At The Bottom\" by Vince Guaraldi\n",
      "['song', 'old', 'said', 'stand', 'round', 'jesus', '&', 'goin', 'play', 'start']\n",
      "\t\"Whiskey on the Fire\" by Aaron Watson\n",
      "\t\"The way to Peace\" by Uman\n",
      "\t\"Meteor Of War (Album Version)\" by Rancid\n",
      "\t\"Going Down\" by Bryan Ferry\n",
      "\t\"Around And Around\" by The Rolling Stones\n",
      "['babi', 'let', 'go', 'ay', 'take', 'fantasi', 'got', 'ladi', 'blame', 'cant']\n",
      "\t\"Don't Upset The Rhythm (Go Baby Go)\" by Noisettes\n",
      "\t\"Let Me Be Your Fantasy\" by Baby D\n",
      "\t\"What It Takes\" by Aerosmith\n",
      "\t\"Go Baby (feat GemStones) (Explicit Album Version)\" by Lupe Fiasco feat. GemStones\n",
      "\t\"Let Me Go Home Whiskey\" by Asleep At The Wheel\n",
      "['denk', 'immer', 'mehr', 'jag', 'ja', 'ab', 'rap', 'gibt', 'nein', 'seh']\n",
      "\t\"Mein Herz kann man nicht kaufen\" by Gall_ France\n",
      "\t\"Signapur\" by In Extremo\n",
      "\t\"Denk\" by Samy Deluxe\n",
      "\t\"Lachen und weinen\" by 2raumwohnung\n",
      "\t\"Engel\" by Der Plan\n",
      "['rain', 'fire', 'chorus', 'heaven', 'black', 'bottom', 'natur', 'jah', 'savior', 'fi']\n",
      "\t\"Cursed Angel Of Doom (Previously Unreleased&Re-Recorded Track)\" by Behemoth\n",
      "\t\"Silent Night_ Holy Night! (Album Version)\" by Faith Hill\n",
      "\t\"Autumn's Ablaze (Live)\" by Primordial\n",
      "\t\"Raining Revolution (Live) (Unplugged)\" by ARRESTED DEVELOPMENT\n",
      "\t\"Ya Mama (Palm Springs Demo)\" by P.O.D.\n",
      "['cruel', 'bo', 'dum', 'rave', 'mississippi', 'doo', 'bald', 'anch', 'sento', 'pone']\n",
      "\t\"Laakista humppa\" by Elakelaiset\n",
      "\t\"Abagui Alobi\" by Patience Dabany\n",
      "\t\"Un nuovo giorno\" by Cali\n",
      "\t\"Isku Pitkasta Ilosta\" by Korpiklaani\n",
      "\t\"Rave On (Live 1982)\" by Marshall Crenshaw\n",
      "['dame', 'basta', 'georgia', 'oer', 'bonni', 'ahhh', 'frei', 'vale', 'submit', 'debo']\n",
      "\t\"Ya Basta\" by Jay Perez\n",
      "\t\"No Soy Uno Mas\" by Jose Luis Perales\n",
      "\t\"Ojos Negros\" by Olga Tanon\n",
      "\t\"Frei zu sein\" by In Extremo\n",
      "\t\"Sencillamente\" by Bersuit Vergarabat\n",
      "['togeth', 'forev', 'lie', 'anoth', 'help', 'lover', 'fall', 'control', 'u', 'sweet']\n",
      "\t\"Orgofart\" by Descendents\n",
      "\t\"Sweet Lover Hangover\" by Love and Rockets\n",
      "\t\"Charly (Trip Into Drum And Bass Version) (Remastered)\" by The Prodigy\n",
      "\t\"Vincent\" by Madilu System\n",
      "\t\"Prvni vesela\" by Krystof\n",
      "['oh', 'hey', 'danc', 'music', 'alright', 'everybodi', 'woman', 'pleas', 'gonna', 'talk']\n",
      "\t\"Alla Fine Di Tutto Questo\" by Fabri Fibra\n",
      "\t\"Jingle Bell Rock\" by Bobby Russell\n",
      "\t\"Ninja Tattoo\" by Shanadoo\n",
      "\t\"The Same Old Innocence\" by Architecture In Helsinki\n",
      "\t\"White Light\" by Gorillaz\n",
      "['come', 'turn', 'sail', 'jame', 'fade', 'weather', 'salli', 'wait', 'field', 'ladder']\n",
      "\t\"River Is Waiting\" by Irma Thomas\n",
      "\t\"Rock On The Radio\" by Firehouse\n",
      "\t\"Coming Undone\" by Tantric\n",
      "\t\"Reuben James\" by Kenny Rogers\n",
      "\t\"Come On-a My House\" by Barbara Lusch\n",
      "['rock', 'roll', 'chao', 'linda', 'whatcha', 'pig', 'sha', 'scienc', 'glimps', 'gasolin']\n",
      "\t\"Myth Takes\" by !!!\n",
      "\t\"Good Rocking Tonight\" by Roy Brown\n",
      "\t\"Roter Rolls Royce\" by Ideal\n",
      "\t\"Stairway To Cleveland\" by Jefferson Starship\n",
      "\t\"Roadhouse Blues (Live In Detroit) (LP Version)\" by The Doors\n",
      "['yeah', 'oh', 'night', 'ah', 'ooh', 'ca', 'whoa', 'take', 'heart', 'away']\n",
      "\t\"Slipping Away\" by Vivian\n",
      "\t\"No More Lonely Nights\" by Fiona\n",
      "\t\"Pianolude\" by Usher\n",
      "\t\"School\" by Nirvana\n",
      "\t\"This Is How A Heart Breaks\" by Joe McBride\n",
      "['famili', 'trembl', 'cotton', 'negra', 'attitud', 'rocket', 'tempo', 'coal', 'cambiar', 'map']\n",
      "\t\"E Samba (Accapella)\" by Junior Jack\n",
      "\t\"Ulan Bator Girls\" by Leningrad Cowboys\n",
      "\t\"Grandbag's Funeral\" by Happy Mondays\n",
      "\t\"Heavy On My Mind (Album Version)\" by Back Door Slam\n",
      "\t\"I Never Picked Cotton\" by Roy Rogers\n",
      "['world', 'life', 'god', 'light', 'one', 'lord', 'live', 'see', 'save', 'us']\n",
      "\t\"Facedown\" by Matt Redman\n",
      "\t\"I Will Call Upon the Lord\" by Bill Murk\n",
      "\t\"You Are God (Broken Album Version)\" by Darwin Hobbs\n",
      "\t\"Nobody's Perfect\" by Mike And The Mechanics\n",
      "\t\"You Appearing\" by M83\n",
      "['girl', 'gone', 'town', 'night', 'brown', 'left', 'friend', 'mari', 'monday', 'river']\n",
      "\t\"See My Friends\" by Ray Davies\n",
      "\t\"Supreme Girl\" by The Sterns\n",
      "\t\"Meteor Of War (Album Version)\" by Rancid\n",
      "\t\"Talk Of The Town\" by Firehouse\n",
      "\t\"Seni Unuturum\" by Ebru Gundes\n",
      "['men', 'till', 'som', 'har', 'kan', 'det', 'ur', 'oo', 'vi', 'vill']\n",
      "\t\"Grottans Barn\" by Finntroll\n",
      "\t\"Alla Mot Alla\" by Kent\n",
      "\t\"Markus sang\" by Kent\n",
      "\t\"Kitteldags\" by Finntroll\n",
      "\t\"Ompa Til Du Dor\" by Kaizers Orchestra\n",
      "['dan', 'cest', 'tout', 'si', 'mai', 'comm', 'plus', 'ell', 'jai', 'san']\n",
      "\t\"Ramene Moi\" by Lara Fabian\n",
      "\t\"Laquelle Des Deux Est La Plus Snob\" by Jacques Dutronc\n",
      "\t\"Desole Pour La Poussiere\" by Miossec\n",
      "\t\"C'est Dimanche\" by Aurelien Merle\n",
      "\t\"La Memoire Des Jours\" by Raphael\n",
      "['saturday', 'sunday', 'friday', 'tuesday', 'sugar', 'envi', 'vain', 'willow', 'niin', 'sua']\n",
      "\t\"Ihmisen Lento\" by Indica\n",
      "\t\"Viimeinen lento\" by Kaija Koo\n",
      "\t\"Sahti Waari\" by Turisas\n",
      "\t\"Baile Da Pesada\" by Bangalafumenga\n",
      "\t\"Laakista humppa\" by Elakelaiset\n",
      "['nuh', 'olvidar', 'sol', 'vultur', 'quedan', 'caso', 'yuh', 'sola', 'sanctuari', 'cae']\n",
      "\t\"Cuatro Estrofas\" by Sandra Mihanovich\n",
      "\t\"Como Olvidar (Merengue Version)\" by Olga Tanon\n",
      "\t\"Get A Straw\" by Lady Saw\n",
      "\t\"Here I Am\" by Phantom Planet\n",
      "\t\"De pie\" by Fuzz\n",
      "['quiero', 'si', 'amor', 'mas', 'solo', 'nunca', 'ser', 'vida', 'vez', 'porqu']\n",
      "\t\"Tu Robaste Mi Corazon\" by Selena\n",
      "\t\"Dicen Por Ahi\" by Enrique Iglesias\n",
      "\t\"Te Mentiria\" by Gian Marco\n",
      "\t\"Samaritanas Del Amor\" by Jose Luis Perales\n",
      "\t\"El Amor\" by Jose Luis Perales\n",
      "['us', 'rememb', 'wish', 'see', 'year', 'thing', 'go', 'christma', 'ride', 'hope']\n",
      "\t\"We Wish You A Merry Christmas\" by SNOWPATROL\n",
      "\t\"What Are We Here For\" by Gary Moore\n",
      "\t\"Have Yourself A Merry Little Christmas\" by Hem\n",
      "\t\"Ease\" by Public Image Ltd\n",
      "\t\"Have Yourself A Merry Little Christmas (LP Version)\" by George Huff\n",
      "['slap', 'satellit', 'pare', 'devour', 'rosa', 'mag', 'diablo', 'pedir', 'vuelto', 'corr']\n",
      "\t\"Slap U Around\" by GWAR\n",
      "\t\"Satellite Of Love (Album Version)\" by Porno For Pyros\n",
      "\t\"En Algun Rincon\" by Cafe Quijano\n",
      "\t\"Power Shower\" by Caspa\n",
      "\t\"Oh What A Feeling\" by Everly Brothers\n",
      "['day', 'eye', 'dream', 'one', 'burn', 'sky', 'night', 'away', 'mind', 'onli']\n",
      "\t\"A Void Of Lifeless Dreams\" by Limbonic Art\n",
      "\t\"Her Golden Robe In Silence Veiled\" by Autumnblaze\n",
      "\t\"Forever Consumed Oblivion\" by Goatwhore\n",
      "\t\"Above Lucium (LP Version)\" by Daath\n",
      "\t\"Your Prophetic Throne Of Ivory\" by Disembowelment\n",
      "['vamo', 'samba', 'tres', 'decay', 'hermano', 'essa', 'mend', 'creo', 'llego', 'blanco']\n",
      "\t\"E Samba (Accapella)\" by Junior Jack\n",
      "\t\"Rompan Todo\" by 2 Minutos\n",
      "\t\"Hasta El Final\" by La Portuaria\n",
      "\t\"Canta Una Cancion De Amor\" by Alejandro Lerner\n",
      "\t\"Harboring An Apparition\" by Mouth Of The Architect\n"
     ]
    }
   ],
   "source": [
    "conn = sqlite3.connect('../../data/MillionSongSubset/AdditionalFiles/subset_track_metadata.db')\n",
    "q = \"SELECT title, artist_name FROM songs WHERE track_id = '{}';\"\n",
    "# q2 = \"SELECT title, artist_name FROM songs WHERE track_id = 'TRAWVWS128F42ADCD1';\"\n",
    "# print q.format(imp_track_ids[0])\n",
    "for track_ids, topic in zip(imp_3track_ids,filtered):\n",
    "    print topic[:10]\n",
    "    formatted = '\\t\"{}\" by {}'\n",
    "    for track_id in track_ids:\n",
    "        song,artist= conn.execute(q.format(track_id)).fetchone()\n",
    "        print formatted.format(unidecode(song), unidecode(artist), topic[0:5])\n",
    "conn.close()"
   ]
  },
  {
   "cell_type": "code",
   "execution_count": 148,
   "metadata": {
    "collapsed": false
   },
   "outputs": [
    {
     "data": {
      "text/plain": [
       "array([7, 1, 1, ..., 0, 0, 0])"
      ]
     },
     "execution_count": 148,
     "metadata": {},
     "output_type": "execute_result"
    }
   ],
   "source": [
    "np.argmax(X,axis=1)"
   ]
  },
  {
   "cell_type": "code",
   "execution_count": 134,
   "metadata": {
    "collapsed": false
   },
   "outputs": [
    {
     "data": {
      "text/plain": [
       "7506"
      ]
     },
     "execution_count": 134,
     "metadata": {},
     "output_type": "execute_result"
    }
   ],
   "source": [
    "len(X)"
   ]
  },
  {
   "cell_type": "code",
   "execution_count": 136,
   "metadata": {
    "collapsed": false
   },
   "outputs": [],
   "source": [
    "from collections import Counter\n",
    "c = Counter(np.argmax(X,axis=1))"
   ]
  },
  {
   "cell_type": "code",
   "execution_count": 137,
   "metadata": {
    "collapsed": false
   },
   "outputs": [
    {
     "data": {
      "text/plain": [
       "Counter({0: 5196,\n",
       "         1: 1032,\n",
       "         3: 595,\n",
       "         4: 1,\n",
       "         5: 13,\n",
       "         7: 3,\n",
       "         8: 3,\n",
       "         9: 34,\n",
       "         13: 8,\n",
       "         14: 12,\n",
       "         15: 2,\n",
       "         17: 2,\n",
       "         19: 115,\n",
       "         20: 3,\n",
       "         21: 6,\n",
       "         22: 86,\n",
       "         23: 3,\n",
       "         25: 189,\n",
       "         26: 13,\n",
       "         28: 190})"
      ]
     },
     "execution_count": 137,
     "metadata": {},
     "output_type": "execute_result"
    }
   ],
   "source": [
    "c"
   ]
  },
  {
   "cell_type": "code",
   "execution_count": 140,
   "metadata": {
    "collapsed": false
   },
   "outputs": [
    {
     "data": {
      "text/plain": [
       "(30, 5000)"
      ]
     },
     "execution_count": 140,
     "metadata": {},
     "output_type": "execute_result"
    }
   ],
   "source": [
    "components.shape"
   ]
  },
  {
   "cell_type": "code",
   "execution_count": 157,
   "metadata": {
    "collapsed": false
   },
   "outputs": [
    {
     "data": {
      "text/plain": [
       "26"
      ]
     },
     "execution_count": 157,
     "metadata": {},
     "output_type": "execute_result"
    }
   ],
   "source": [
    "len(c)"
   ]
  },
  {
   "cell_type": "code",
   "execution_count": null,
   "metadata": {
    "collapsed": true
   },
   "outputs": [],
   "source": []
  }
 ],
 "metadata": {
  "kernelspec": {
   "display_name": "Python 2",
   "language": "python",
   "name": "python2"
  },
  "language_info": {
   "codemirror_mode": {
    "name": "ipython",
    "version": 2
   },
   "file_extension": ".py",
   "mimetype": "text/x-python",
   "name": "python",
   "nbconvert_exporter": "python",
   "pygments_lexer": "ipython2",
   "version": "2.7.11"
  }
 },
 "nbformat": 4,
 "nbformat_minor": 0
}
