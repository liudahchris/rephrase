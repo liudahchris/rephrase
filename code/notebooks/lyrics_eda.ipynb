{
 "cells": [
  {
   "cell_type": "markdown",
   "metadata": {},
   "source": [
    "# NMF For Topic Modelling "
   ]
  },
  {
   "cell_type": "code",
   "execution_count": 1,
   "metadata": {
    "collapsed": false
   },
   "outputs": [],
   "source": [
    "import pandas as pd\n",
    "import numpy as np\n",
    "import sqlite3\n",
    "from sklearn.decomposition import NMF\n",
    "from nltk.corpus import stopwords\n",
    "from unidecode import unidecode\n",
    "from collections import Counter"
   ]
  },
  {
   "cell_type": "code",
   "execution_count": 2,
   "metadata": {
    "collapsed": false
   },
   "outputs": [],
   "source": [
    "path = '../../data/lyrics/data/subset_bow_2.csv'\n",
    "df = pd.read_csv(path,index_col=0)"
   ]
  },
  {
   "cell_type": "code",
   "execution_count": 3,
   "metadata": {
    "collapsed": false
   },
   "outputs": [
    {
     "data": {
      "text/html": [
       "<div>\n",
       "<table border=\"1\" class=\"dataframe\">\n",
       "  <thead>\n",
       "    <tr style=\"text-align: right;\">\n",
       "      <th></th>\n",
       "      <th>i</th>\n",
       "      <th>the</th>\n",
       "      <th>you</th>\n",
       "      <th>to</th>\n",
       "      <th>and</th>\n",
       "      <th>a</th>\n",
       "      <th>me</th>\n",
       "      <th>it</th>\n",
       "      <th>not</th>\n",
       "      <th>in</th>\n",
       "      <th>...</th>\n",
       "      <th>writer</th>\n",
       "      <th>motivo</th>\n",
       "      <th>bake</th>\n",
       "      <th>insist</th>\n",
       "      <th>wel</th>\n",
       "      <th>santo</th>\n",
       "      <th>pe</th>\n",
       "      <th>gee</th>\n",
       "      <th>colleg</th>\n",
       "      <th>kad</th>\n",
       "    </tr>\n",
       "  </thead>\n",
       "  <tbody>\n",
       "    <tr>\n",
       "      <th>TRAYYAU128F92D58D0</th>\n",
       "      <td>0.0</td>\n",
       "      <td>3.0</td>\n",
       "      <td>4.0</td>\n",
       "      <td>2.0</td>\n",
       "      <td>4.0</td>\n",
       "      <td>5.0</td>\n",
       "      <td>0.0</td>\n",
       "      <td>0.0</td>\n",
       "      <td>7.0</td>\n",
       "      <td>0.0</td>\n",
       "      <td>...</td>\n",
       "      <td>0.0</td>\n",
       "      <td>0.0</td>\n",
       "      <td>0.0</td>\n",
       "      <td>0.0</td>\n",
       "      <td>0.0</td>\n",
       "      <td>0.0</td>\n",
       "      <td>0.0</td>\n",
       "      <td>0.0</td>\n",
       "      <td>0.0</td>\n",
       "      <td>0.0</td>\n",
       "    </tr>\n",
       "    <tr>\n",
       "      <th>TRARURM128F931A91B</th>\n",
       "      <td>5.0</td>\n",
       "      <td>5.0</td>\n",
       "      <td>9.0</td>\n",
       "      <td>2.0</td>\n",
       "      <td>0.0</td>\n",
       "      <td>4.0</td>\n",
       "      <td>0.0</td>\n",
       "      <td>1.0</td>\n",
       "      <td>2.0</td>\n",
       "      <td>0.0</td>\n",
       "      <td>...</td>\n",
       "      <td>0.0</td>\n",
       "      <td>0.0</td>\n",
       "      <td>0.0</td>\n",
       "      <td>0.0</td>\n",
       "      <td>0.0</td>\n",
       "      <td>0.0</td>\n",
       "      <td>0.0</td>\n",
       "      <td>0.0</td>\n",
       "      <td>0.0</td>\n",
       "      <td>0.0</td>\n",
       "    </tr>\n",
       "    <tr>\n",
       "      <th>TRAMSSK128F92FDC80</th>\n",
       "      <td>8.0</td>\n",
       "      <td>13.0</td>\n",
       "      <td>5.0</td>\n",
       "      <td>1.0</td>\n",
       "      <td>6.0</td>\n",
       "      <td>4.0</td>\n",
       "      <td>1.0</td>\n",
       "      <td>0.0</td>\n",
       "      <td>5.0</td>\n",
       "      <td>7.0</td>\n",
       "      <td>...</td>\n",
       "      <td>0.0</td>\n",
       "      <td>0.0</td>\n",
       "      <td>0.0</td>\n",
       "      <td>0.0</td>\n",
       "      <td>0.0</td>\n",
       "      <td>0.0</td>\n",
       "      <td>0.0</td>\n",
       "      <td>0.0</td>\n",
       "      <td>0.0</td>\n",
       "      <td>0.0</td>\n",
       "    </tr>\n",
       "    <tr>\n",
       "      <th>TRAAMPA128F92E7D0D</th>\n",
       "      <td>17.0</td>\n",
       "      <td>0.0</td>\n",
       "      <td>4.0</td>\n",
       "      <td>4.0</td>\n",
       "      <td>5.0</td>\n",
       "      <td>20.0</td>\n",
       "      <td>8.0</td>\n",
       "      <td>18.0</td>\n",
       "      <td>2.0</td>\n",
       "      <td>0.0</td>\n",
       "      <td>...</td>\n",
       "      <td>0.0</td>\n",
       "      <td>0.0</td>\n",
       "      <td>0.0</td>\n",
       "      <td>0.0</td>\n",
       "      <td>0.0</td>\n",
       "      <td>0.0</td>\n",
       "      <td>0.0</td>\n",
       "      <td>0.0</td>\n",
       "      <td>0.0</td>\n",
       "      <td>0.0</td>\n",
       "    </tr>\n",
       "    <tr>\n",
       "      <th>TRAWHZK12903CB5A01</th>\n",
       "      <td>18.0</td>\n",
       "      <td>1.0</td>\n",
       "      <td>3.0</td>\n",
       "      <td>6.0</td>\n",
       "      <td>0.0</td>\n",
       "      <td>2.0</td>\n",
       "      <td>0.0</td>\n",
       "      <td>1.0</td>\n",
       "      <td>5.0</td>\n",
       "      <td>0.0</td>\n",
       "      <td>...</td>\n",
       "      <td>0.0</td>\n",
       "      <td>0.0</td>\n",
       "      <td>0.0</td>\n",
       "      <td>0.0</td>\n",
       "      <td>0.0</td>\n",
       "      <td>0.0</td>\n",
       "      <td>0.0</td>\n",
       "      <td>0.0</td>\n",
       "      <td>0.0</td>\n",
       "      <td>0.0</td>\n",
       "    </tr>\n",
       "  </tbody>\n",
       "</table>\n",
       "<p>5 rows × 5000 columns</p>\n",
       "</div>"
      ],
      "text/plain": [
       "                       i   the  you   to  and     a   me    it  not   in ...   \\\n",
       "TRAYYAU128F92D58D0   0.0   3.0  4.0  2.0  4.0   5.0  0.0   0.0  7.0  0.0 ...    \n",
       "TRARURM128F931A91B   5.0   5.0  9.0  2.0  0.0   4.0  0.0   1.0  2.0  0.0 ...    \n",
       "TRAMSSK128F92FDC80   8.0  13.0  5.0  1.0  6.0   4.0  1.0   0.0  5.0  7.0 ...    \n",
       "TRAAMPA128F92E7D0D  17.0   0.0  4.0  4.0  5.0  20.0  8.0  18.0  2.0  0.0 ...    \n",
       "TRAWHZK12903CB5A01  18.0   1.0  3.0  6.0  0.0   2.0  0.0   1.0  5.0  0.0 ...    \n",
       "\n",
       "                    writer  motivo  bake  insist  wel  santo   pe  gee  \\\n",
       "TRAYYAU128F92D58D0     0.0     0.0   0.0     0.0  0.0    0.0  0.0  0.0   \n",
       "TRARURM128F931A91B     0.0     0.0   0.0     0.0  0.0    0.0  0.0  0.0   \n",
       "TRAMSSK128F92FDC80     0.0     0.0   0.0     0.0  0.0    0.0  0.0  0.0   \n",
       "TRAAMPA128F92E7D0D     0.0     0.0   0.0     0.0  0.0    0.0  0.0  0.0   \n",
       "TRAWHZK12903CB5A01     0.0     0.0   0.0     0.0  0.0    0.0  0.0  0.0   \n",
       "\n",
       "                    colleg  kad  \n",
       "TRAYYAU128F92D58D0     0.0  0.0  \n",
       "TRARURM128F931A91B     0.0  0.0  \n",
       "TRAMSSK128F92FDC80     0.0  0.0  \n",
       "TRAAMPA128F92E7D0D     0.0  0.0  \n",
       "TRAWHZK12903CB5A01     0.0  0.0  \n",
       "\n",
       "[5 rows x 5000 columns]"
      ]
     },
     "execution_count": 3,
     "metadata": {},
     "output_type": "execute_result"
    }
   ],
   "source": [
    "df.head()"
   ]
  },
  {
   "cell_type": "code",
   "execution_count": 3,
   "metadata": {
    "collapsed": true
   },
   "outputs": [],
   "source": [
    "to_drop = []\n",
    "for ind in df.index:\n",
    "    if df.loc[ind].sum()==0:\n",
    "        to_drop.append(ind)"
   ]
  },
  {
   "cell_type": "code",
   "execution_count": 5,
   "metadata": {
    "collapsed": false
   },
   "outputs": [
    {
     "data": {
      "text/plain": [
       "5156"
      ]
     },
     "execution_count": 5,
     "metadata": {},
     "output_type": "execute_result"
    }
   ],
   "source": [
    "len(to_drop)"
   ]
  },
  {
   "cell_type": "code",
   "execution_count": 6,
   "metadata": {
    "collapsed": true
   },
   "outputs": [],
   "source": [
    "df = df.drop(to_drop)"
   ]
  },
  {
   "cell_type": "code",
   "execution_count": 9,
   "metadata": {
    "collapsed": false
   },
   "outputs": [
    {
     "data": {
      "text/plain": [
       "Index([u'i', u'the', u'you', u'to', u'and', u'a', u'me', u'it', u'not', u'in',\n",
       "       ...\n",
       "       u'writer', u'motivo', u'bake', u'insist', u'wel', u'santo', u'pe',\n",
       "       u'gee', u'colleg', u'kad'],\n",
       "      dtype='object', length=5000)"
      ]
     },
     "execution_count": 9,
     "metadata": {},
     "output_type": "execute_result"
    }
   ],
   "source": [
    "df.columns"
   ]
  },
  {
   "cell_type": "markdown",
   "metadata": {},
   "source": [
    "### How Sparse Is Our Data?"
   ]
  },
  {
   "cell_type": "code",
   "execution_count": 8,
   "metadata": {
    "collapsed": false
   },
   "outputs": [
    {
     "data": {
      "text/plain": [
       "0.9827326808510638"
      ]
     },
     "execution_count": 8,
     "metadata": {},
     "output_type": "execute_result"
    }
   ],
   "source": [
    "(df==0).sum().sum()/np.product(df.shape).astype(float)"
   ]
  },
  {
   "cell_type": "markdown",
   "metadata": {},
   "source": [
    "### Let's try dropping stopwords"
   ]
  },
  {
   "cell_type": "code",
   "execution_count": 13,
   "metadata": {
    "collapsed": false
   },
   "outputs": [
    {
     "name": "stderr",
     "output_type": "stream",
     "text": [
      "/Users/christopherliu/anaconda/lib/python2.7/site-packages/ipykernel/__main__.py:4: UnicodeWarning: Unicode equal comparison failed to convert both arguments to Unicode - interpreting them as being unequal\n"
     ]
    }
   ],
   "source": [
    "stop_words = stopwords.words('english') + stopwords.words('spanish') + stopwords.words('german') + stopwords.words('french')\n",
    "col_keep = []\n",
    "for word in df.columns:\n",
    "    if word not in stop_words:\n",
    "        col_keep.append(word)"
   ]
  },
  {
   "cell_type": "code",
   "execution_count": 14,
   "metadata": {
    "collapsed": false
   },
   "outputs": [
    {
     "data": {
      "text/plain": [
       "4654"
      ]
     },
     "execution_count": 14,
     "metadata": {},
     "output_type": "execute_result"
    }
   ],
   "source": [
    "len(col_keep)"
   ]
  },
  {
   "cell_type": "code",
   "execution_count": 15,
   "metadata": {
    "collapsed": true
   },
   "outputs": [],
   "source": [
    "df = df[col_keep]"
   ]
  },
  {
   "cell_type": "markdown",
   "metadata": {},
   "source": [
    "### Try NMF"
   ]
  },
  {
   "cell_type": "code",
   "execution_count": 67,
   "metadata": {
    "collapsed": false
   },
   "outputs": [],
   "source": [
    "n = 18\n",
    "nmf = NMF(n_components=n,init='random')"
   ]
  },
  {
   "cell_type": "code",
   "execution_count": 68,
   "metadata": {
    "collapsed": true
   },
   "outputs": [],
   "source": [
    "# subset = df.values[:,:1500]\n",
    "W = nmf.fit_transform(df)\n",
    "H=nmf.components_"
   ]
  },
  {
   "cell_type": "code",
   "execution_count": 69,
   "metadata": {
    "collapsed": false
   },
   "outputs": [],
   "source": [
    "mask=np.array([row[::-1] for row in np.argsort(H,axis=1)])[:,:100]"
   ]
  },
  {
   "cell_type": "code",
   "execution_count": 70,
   "metadata": {
    "collapsed": false
   },
   "outputs": [],
   "source": [
    "possible = np.array(df.columns)[mask]"
   ]
  },
  {
   "cell_type": "code",
   "execution_count": 71,
   "metadata": {
    "collapsed": false
   },
   "outputs": [],
   "source": [
    "stop_words = stopwords.words('english') + stopwords.words('spanish') + stopwords.words('german') + stopwords.words('french')\n",
    "filtered = np.array([[word for word in topic  if word not in stop_words] for topic in possible])"
   ]
  },
  {
   "cell_type": "code",
   "execution_count": 72,
   "metadata": {
    "collapsed": false
   },
   "outputs": [
    {
     "name": "stdout",
     "output_type": "stream",
     "text": [
      "['got' 'nigga' 'make' 'way' 'wanna' 'gonna' 'shit' 'caus' 'well' 'keep']\n",
      "\t\"Ain't Got Nothin' But The Blues (Album Version)\" by Robben Ford\n",
      "\t\"Coyotes (Album Version)\" by Jason Mraz\n",
      "\t\"La Photo\" by Basement Jaxx\n",
      "\t\"Warm Embrace (LP Version)\" by Twista & The Speedknot Mobstaz\n",
      "\t\"The Hotness (ft. Shontelle)\" by Rihanna\n",
      "['know' 'want' 'need' 'gonna' 'right' 'thing' 'feel' 'give' 'time' 'wanna']\n",
      "\t\"What You Deserve (Album Version)\" by Ill Nino\n",
      "\t\"I Don't Know\" by Teenage Fanclub\n",
      "\t\"Tha Day\" by K's Choice\n",
      "\t\"Out In The Street (Live) (2008 Digital Remaster)\" by UFO\n",
      "\t\"Dying to Know (Album Version)\" by Pennywise\n",
      "['oh' 'bye' 'ooh' 'yeah' 'whoa' 'way' 'new' 'hey' 'take' 'wow']\n",
      "\t\"Heaven's In New York\" by Wyclef Jean\n",
      "\t\"It Ain't No Use\" by Jimmy McCracklin\n",
      "\t\"Contagious\" by Y&T\n",
      "\t\"Slipping Away\" by Vivian\n",
      "\t\"The Same Old Innocence\" by Architecture In Helsinki\n",
      "['love' 'song' 'first' 'heart' 'show' 'onli' 'give' 'caus' 'way' 'put']\n",
      "\t\"Don't Phunk With My Heart\" by Java\n",
      "\t\"(This Is Not A) Love Song (Live)\" by Public Image Ltd\n",
      "\t\"I'll Show You Love\" by Usher\n",
      "\t\"Dangerously In Love Medley\" by Beyonce\n",
      "\t\"Luv In the First\" by Latif\n",
      "['babi' 'worri' 'want' 'hey' 'ooh' 'whoa' 'time' 'talk' 'yeah' 'caus']\n",
      "\t\"Go Baby (feat GemStones) (Explicit Album Version)\" by Lupe Fiasco feat. GemStones\n",
      "\t\"Don't Upset The Rhythm (Go Baby Go)\" by Noisettes\n",
      "\t\"Why Baby Why\" by Hank Locklin\n",
      "\t\"I'll Show You Love\" by Usher\n",
      "\t\"We Gotta Talk\" by Jennifer Lopez\n",
      "['ca' 'danc' 'g' 'feel' 'take' 'away' '2' 'ohh' '1' 'break']\n",
      "\t\"You Can't Hurry Love (Live)\" by Phil Collins\n",
      "\t\"Unbreakable\" by Ms. Dynamite\n",
      "\t\"Sally Can't Dance\" by Lou Reed\n",
      "\t\"Ain't It Funny\" by Jennifer Lopez\n",
      "\t\"Save Me (Rolling Stone Original Version)\" by Unwritten Law\n",
      "['go' 'rhythm' 'let' 'tell' 'upset' 'hey' 'back' 'gonna' 'find' 'round']\n",
      "\t\"What It Takes\" by Aerosmith\n",
      "\t\"Go Baby (feat GemStones) (Explicit Album Version)\" by Lupe Fiasco feat. GemStones\n",
      "\t\"Don't Upset The Rhythm (Go Baby Go)\" by Noisettes\n",
      "\t\"There It Go (The Whistle Song)\" by Juelz Santana\n",
      "\t\"Magic\" by Black Eyed Peas / Terry Dexter\n",
      "['one' 'time' 'day' 'night' 'mind' 'onli' 'chang' 'good' 'right' 'life']\n",
      "\t\"Good Times Have Done Me Wrong (live) - exclusive version\" by Simply Red\n",
      "\t\"Only One You\" by T.G. Sheppard\n",
      "\t\"Change Your Mind\" by KMD\n",
      "\t\"One Person At A Time\" by Jonny Lang\n",
      "\t\"Someday\" by Mariah Carey\n",
      "['na' 'nah' 'murder' 'wish' 'hope' 'lyric' 'still' 'away' 'like' 'know']\n",
      "\t\"Here Comes The Hotstepper\" by Ini Kamoze\n",
      "\t\"Hope  (Edited Album Version)\" by Twista Featuring Cee-Lo\n",
      "\t\"Stormtrooper (Live)\" by Pepper\n",
      "\t\"Catcher In The Rye\" by Guns N' Roses\n",
      "\t\"Heartless\" by Hoods\n",
      "['let' 'rain' 'start' 'feel' 'take' 'runnin' 'tell' 'yeah' 'around' 'get']\n",
      "\t\"What It Takes\" by Aerosmith\n",
      "\t\"Let's Get It Started\" by Black Eyed Peas\n",
      "\t\"Let Me Be Your Fantasy\" by Baby D\n",
      "\t\"Let's Plan A Robbery\" by Three 6 Mafia\n",
      "\t\"Raining Revolution (Live) (Unplugged)\" by ARRESTED DEVELOPMENT\n",
      "['like' 'nigga' 'tell' 'feel' 'kick' 'shit' 'wanna' 'wit' 'back' 'em']\n",
      "\t\"U Not Like Me\" by 50 Cent\n",
      "\t\"This This (LP Version)\" by Nicole C. Mullen\n",
      "\t\"Criteria\" by Shaggy\n",
      "\t\"Tell It Like It T-I-IS (Album Version)\" by The B-52's\n",
      "\t\"Can I Get A Witness\" by RUN-DMC\n",
      "['head' 'yeah' 'crack' 'caus' 'back' 'slow' 'take' 'see' 'mad' 'call']\n",
      "\t\"Head Banger\" by EPMD\n",
      "\t\"Pianolude\" by Usher\n",
      "\t\"I Wish I Had A Girl\" by Henry Lee Summer\n",
      "\t\"Janie's Got A Gun\" by Aerosmith\n",
      "\t\"Oops!...I Did It Again\" by Britney Spears\n",
      "['say' 'follow' 'leader' 'keep' 'make' 'way' 'beauti' 'gangsta' 'right'\n",
      " 'us']\n",
      "\t\"Follow The Leader\" by Eric B. & Rakim\n",
      "\t\"Over And Out [Album Version]\" by Britny Fox\n",
      "\t\"You Say Keep It Gangsta\" by Wyclef Jean featuring Butch Cassidy and Sharissa\n",
      "\t\"Did Ya Say That\" by GZA/The Genius\n",
      "\t\"Stand Firm (2002 Digital Remaster)\" by Peter Tosh\n",
      "['get' 'top' 'caus' 'hit' 'bottom' 'block' 'bitch' 'cop' 'befor' 'knock']\n",
      "\t\"Get On Top (Album Version)\" by Red Hot Chili Peppers\n",
      "\t\"Let's Get It Started\" by Black Eyed Peas\n",
      "\t\"Get Down\" by Amil\n",
      "\t\"Can I Get A Witness\" by RUN-DMC\n",
      "\t\"I'ma Bang\" by DMX\n",
      "['girl' 'would' 'boy' 'world' 'yeah' 'right' 'give' 'rule' 'heart' 'make']\n",
      "\t\"Girls Against Boys (LP Version)\" by Vitamin C\n",
      "\t\"Famous Girl\" by Chris Brown\n",
      "\t\"Trade It All PT2  (Early Fade Amended Version- Bonus Track) (featuring P. Diddy & Jagged Edge)\" by Fabolous\n",
      "\t\"Conversation\" by Jimmy Riley\n",
      "\t\"I Wish I Had A Girl\" by Henry Lee Summer\n",
      "['whi' 'hot' 'tell' 'coz' 'fli' 'say' 'way' 'hit' 'wanna' 'see']\n",
      "\t\"This Is Why I'm Hot (The Original) (Single Version) (Edited)\" by MIMS\n",
      "\t\"Why Baby Why\" by Hank Locklin\n",
      "\t\"You Tell Me\" by Johnny Cash\n",
      "\t\"I'm Hot\" by Erick Sermon\n",
      "\t\"LDN (Warbox Original Cut Dub)\" by Lily Allen\n",
      "['come' 'hous' 'tell' 'gonna' 'dancin' 'give' 'see' 'wait' 'along' 'around']\n",
      "\t\"Tell Your Momma Come\" by Black Eyed Peas\n",
      "\t\"Coming Undone\" by Tantric\n",
      "\t\"Get On Top (Album Version)\" by Red Hot Chili Peppers\n",
      "\t\"Come On (Sessions@AOL Version)\" by Ben Jelen\n",
      "\t\"Down On Him\" by Pursuit Of Happiness\n",
      "['never' 'see' 'would' 'back' 'take' 'make' 'want' 'way' 'life' 'could']\n",
      "\t\"Never Forget Me\" by Bone Thugs-N-Harmony / Akon\n",
      "\t\"Out Of This World\" by Black Flag\n",
      "\t\"Year Zero\" by 30 Seconds To Mars\n",
      "\t\"Start Me Up\" by The Rolling Stones\n",
      "\t\"Always And Never (Album Version)\" by Silverstein\n"
     ]
    }
   ],
   "source": [
    "songs_mask = np.argsort(W,axis=0).T\n",
    "songs_mask = np.array([mask[::-1] for mask in songs_mask])[:,:5]\n",
    "imp_3track_ids = np.array(df.index)[songs_mask]\n",
    "\n",
    "conn = sqlite3.connect('../../data/MillionSongSubset/AdditionalFiles/subset_track_metadata.db')\n",
    "q = \"SELECT title, artist_name FROM songs WHERE track_id = '{}';\"\n",
    "# q2 = \"SELECT title, artist_name FROM songs WHERE track_id = 'TRAWVWS128F42ADCD1';\"\n",
    "# print q.format(imp_track_ids[0])\n",
    "for track_ids, topic in zip(imp_3track_ids,filtered):\n",
    "    print topic[:10]\n",
    "    formatted = '\\t\"{}\" by {}'\n",
    "    for track_id in track_ids:\n",
    "        song,artist= conn.execute(q.format(track_id)).fetchone()\n",
    "        print formatted.format(unidecode(song), unidecode(artist), topic[0:5])\n",
    "conn.close()"
   ]
  },
  {
   "cell_type": "code",
   "execution_count": 66,
   "metadata": {
    "collapsed": false
   },
   "outputs": [],
   "source": [
    "# for topic in filtered:\n",
    "#     print topic[:10]"
   ]
  },
  {
   "cell_type": "code",
   "execution_count": 73,
   "metadata": {
    "collapsed": false
   },
   "outputs": [
    {
     "data": {
      "text/plain": [
       "array([ 5,  7,  1, ..., 17,  3, 17])"
      ]
     },
     "execution_count": 73,
     "metadata": {},
     "output_type": "execute_result"
    }
   ],
   "source": [
    "np.argmax(W,axis=1)"
   ]
  },
  {
   "cell_type": "code",
   "execution_count": 74,
   "metadata": {
    "collapsed": false
   },
   "outputs": [
    {
     "data": {
      "text/plain": [
       "Counter({0: 268,\n",
       "         1: 544,\n",
       "         2: 258,\n",
       "         3: 100,\n",
       "         4: 47,\n",
       "         5: 129,\n",
       "         6: 96,\n",
       "         7: 140,\n",
       "         8: 55,\n",
       "         9: 31,\n",
       "         10: 58,\n",
       "         11: 62,\n",
       "         12: 33,\n",
       "         13: 74,\n",
       "         14: 53,\n",
       "         15: 48,\n",
       "         16: 94,\n",
       "         17: 260})"
      ]
     },
     "execution_count": 74,
     "metadata": {},
     "output_type": "execute_result"
    }
   ],
   "source": [
    "c = Counter(np.argmax(W,axis=1))\n",
    "c"
   ]
  },
  {
   "cell_type": "markdown",
   "metadata": {
    "collapsed": true
   },
   "source": [
    "### Try LDA"
   ]
  },
  {
   "cell_type": "code",
   "execution_count": 75,
   "metadata": {
    "collapsed": true
   },
   "outputs": [],
   "source": [
    "from sklearn.decomposition import LatentDirichletAllocation as LDA"
   ]
  },
  {
   "cell_type": "code",
   "execution_count": 84,
   "metadata": {
    "collapsed": true
   },
   "outputs": [],
   "source": [
    "n = 20\n",
    "lda = LDA(n_topics=n,max_iter=25)"
   ]
  },
  {
   "cell_type": "code",
   "execution_count": 85,
   "metadata": {
    "collapsed": false
   },
   "outputs": [
    {
     "name": "stderr",
     "output_type": "stream",
     "text": [
      "/Users/christopherliu/anaconda/lib/python2.7/site-packages/sklearn/decomposition/online_lda.py:508: DeprecationWarning: The default value for 'learning_method' will be changed from 'online' to 'batch' in the release 0.20. This warning was introduced in 0.18.\n",
      "  DeprecationWarning)\n"
     ]
    }
   ],
   "source": [
    "X = lda.fit_transform(df)"
   ]
  },
  {
   "cell_type": "code",
   "execution_count": 78,
   "metadata": {
    "collapsed": false
   },
   "outputs": [
    {
     "name": "stdout",
     "output_type": "stream",
     "text": [
      "['lord' 'god' 'jesus' 'di' 'holi' 'heaven' 'savior' 'che' 'nuh' 'thi']\n",
      "['ah' 'whoa' 'woman' 'well' 'wish' 'town' 'oh' 'pretti' 'sail' 'littl']\n",
      "['dan' 'tout' 'cest' 'si' 'ell' 'mai' 'fair' 'plus' 'jai' 'ca']\n",
      "['love' 'babi' 'oh' 'yeah' 'girl' 'go' 'want' 'ooh' 'hey' 'boy']\n",
      "['quiero' 'si' 'amor' 'mas' 'solo' 'corazon' 'vida' 'nunca' 'ser' 'vez']\n",
      "['kill' 'help' 'round' 'nah' 'aliv' 'ca' 'want' 'sick' 'scare' 'breath']\n",
      "['would' 'never' 'one' 'life' 'want' 'onli' 'whi' 'look' 'could' 'see']\n",
      "['alright' 'saturday' 'lead' 'u' 'sunday' 'lie' 'jame' 'around' 'tonight'\n",
      " 'bore']\n",
      "['parti' 'beauti' 'follow' 'say' 'road' 'king' 'g' '4' 'lyric' 'machin']\n",
      "['jag' 'gimm' 'som' 'har' 'kan' 'det' 'ur' 'samba' 'och' 'whatcha']\n",
      "['eye' 'us' 'burn' 'face' 'world' 'see' 'life' 'blood' 'rain' 'fall']\n",
      "['know' 'love' 'feel' 'let' 'time' 'go' 'say' 'like' 'away' 'way']\n",
      "['come' 'danc' 'light' 'see' 'pleas' 'roll' 'hous' 'yea' 'bye' 'around']\n",
      "['believ' 'rock' 'gone' 'easi' 'true' 'morn' 'blue' 'mama' 'hard' 'daddi']\n",
      "['night' 'call' 'hell' 'ay' 'black' 'moon' 'high' 'dark' 'shall' 'star']\n",
      "['na' '2' 'denk' '1' 'ja' '3' 'immer' 'nao' 'mehr' 'fur']\n",
      "['comm' 'petit' 'san' 'woah' 'ici' 'main' 'encor' 'rien' 'cett' 'fill']\n",
      "['get' 'like' 'got' 'make' 'caus' 'know' 'nigga' 'back' 'yeah' 'go']\n"
     ]
    }
   ],
   "source": [
    "components = lda.components_\n",
    "mask=np.array([row[::-1] for row in np.argsort(components,axis=1)])[:,:100]\n",
    "possible = np.array(df.columns)[mask]\n",
    "stop_words = stopwords.words('english') + stopwords.words('spanish') + stopwords.words('german') + stopwords.words('french')\n",
    "filtered = np.array([[word for word in topic  if word not in stop_words] for topic in possible])\n",
    "\n",
    "for topic in filtered:\n",
    "    print topic[:10]"
   ]
  },
  {
   "cell_type": "code",
   "execution_count": 79,
   "metadata": {
    "collapsed": false
   },
   "outputs": [],
   "source": [
    "ind_mask = np.argmax(X,axis=0)"
   ]
  },
  {
   "cell_type": "code",
   "execution_count": 80,
   "metadata": {
    "collapsed": false
   },
   "outputs": [],
   "source": [
    "songs_mask = np.argsort(X,axis=0).T\n",
    "songs_mask = np.array([mask[::-1] for mask in songs_mask])[:,:5]\n",
    "imp_3track_ids = np.array(df.index)[songs_mask]"
   ]
  },
  {
   "cell_type": "code",
   "execution_count": 81,
   "metadata": {
    "collapsed": false
   },
   "outputs": [
    {
     "name": "stdout",
     "output_type": "stream",
     "text": [
      "['lord' 'god' 'jesus' 'di' 'holi' 'heaven' 'savior' 'che' 'nuh' 'thi']\n",
      "\t\"24.000 Baci\" by Christos Dantis\n",
      "\t\"Alla Fine Di Tutto Questo\" by Fabri Fibra\n",
      "\t\"Un nuovo giorno\" by Cali\n",
      "\t\"Balon Combo\" by Mau Mau\n",
      "\t\"Silent Night_ Holy Night! (Album Version)\" by Faith Hill\n",
      "['ah' 'whoa' 'woman' 'well' 'wish' 'town' 'oh' 'pretti' 'sail' 'littl']\n",
      "\t\"We Wish You A Merry Christmas\" by SNOWPATROL\n",
      "\t\"See My Friends\" by Ray Davies\n",
      "\t\"River Is Waiting\" by Irma Thomas\n",
      "\t\"Slipping Away\" by Vivian\n",
      "\t\"Have Yourself A Merry Little Christmas (LP Version)\" by George Huff\n",
      "['dan' 'tout' 'cest' 'si' 'ell' 'mai' 'fair' 'plus' 'jai' 'ca']\n",
      "\t\"Laquelle Des Deux Est La Plus Snob\" by Jacques Dutronc\n",
      "\t\"Chlore\" by Pascal Obispo\n",
      "\t\"Mon dieu\" by Joselito\n",
      "\t\"Si Tu Veux Le Savoir\" by Marc Lavoine\n",
      "\t\"Desole Pour La Poussiere\" by Miossec\n",
      "['love' 'babi' 'oh' 'yeah' 'girl' 'go' 'want' 'ooh' 'hey' 'boy']\n",
      "\t\"It's You\" by Toots & The Maytals\n",
      "\t\"Pianolude\" by Usher\n",
      "\t\"Don't Phunk With My Heart\" by Java\n",
      "\t\"Don't Upset The Rhythm (Go Baby Go)\" by Noisettes\n",
      "\t\"I'll Show You Love\" by Usher\n",
      "['quiero' 'si' 'amor' 'mas' 'solo' 'corazon' 'vida' 'nunca' 'ser' 'vez']\n",
      "\t\"Que Desilusion\" by Mago de Oz\n",
      "\t\"Hablando A Un Cristal\" by Cafe Quijano\n",
      "\t\"Ojos Asi\" by Shakira\n",
      "\t\"Celos\" by Obie Bermudez\n",
      "\t\"Tu Robaste Mi Corazon\" by Selena\n",
      "['kill' 'help' 'round' 'nah' 'aliv' 'ca' 'want' 'sick' 'scare' 'breath']\n",
      "\t\"Heartless\" by Hoods\n",
      "\t\"Jingle Bell Rock\" by Bobby Russell\n",
      "\t\"Abagui Alobi\" by Patience Dabany\n",
      "\t\"Breathless\" by Lifer\n",
      "\t\"Coward\" by Hoods\n",
      "['would' 'never' 'one' 'life' 'want' 'onli' 'whi' 'look' 'could' 'see']\n",
      "\t\"Dead Wrong\" by Cancer Bats\n",
      "\t\"A Little Of You\" by Eurythmics\n",
      "\t\"Performance (Remastered)\" by Happy Mondays\n",
      "\t\"Jean Dominique Intro\" by Wyclef Jean\n",
      "\t\"Little Brother\" by Grizzly Bear\n",
      "['alright' 'saturday' 'lead' 'u' 'sunday' 'lie' 'jame' 'around' 'tonight'\n",
      " 'bore']\n",
      "\t\"Lead Me To The Cross (Acoustic)\" by Seventh Day Slumber\n",
      "\t\"Reuben James\" by Kenny Rogers\n",
      "\t\"Hunger Strike\" by Temple Of The Dog\n",
      "\t\"James (Hold The Ladder Steady)\" by SUE THOMPSON\n",
      "\t\"Affliction\" by AFI\n",
      "['parti' 'beauti' 'follow' 'say' 'road' 'king' 'g' '4' 'lyric' 'machin']\n",
      "\t\"Group Sex\" by Circle Jerks\n",
      "\t\"King Kong\" by Shanadoo\n",
      "\t\"Beautiful\" by Christina Aguilera\n",
      "\t\"Sweet Lover Hangover\" by Love and Rockets\n",
      "\t\"Facedown\" by Matt Redman\n",
      "['jag' 'gimm' 'som' 'har' 'kan' 'det' 'ur' 'samba' 'och' 'whatcha']\n",
      "\t\"Expolodera (som dynamit)\" by Caramell\n",
      "\t\"Vad tva oron klarar\" by Kent\n",
      "\t\"Alla Mot Alla\" by Kent\n",
      "\t\"Ormhaxan\" by Finntroll\n",
      "\t\"Ompa Til Du Dor\" by Kaizers Orchestra\n",
      "['eye' 'us' 'burn' 'face' 'world' 'see' 'life' 'blood' 'rain' 'fall']\n",
      "\t\"Harboring An Apparition\" by Mouth Of The Architect\n",
      "\t\"Privilege of Evil (From the Privilege of Evil EP)\" by Amorphis\n",
      "\t\"Ability To Create A War\" by A Skylit Drive\n",
      "\t\"You Appearing\" by M83\n",
      "\t\"Let Me Out\" by Maximilian Hecker\n",
      "['know' 'love' 'feel' 'let' 'time' 'go' 'say' 'like' 'away' 'way']\n",
      "\t\"Good Times Have Done Me Wrong (live) - exclusive version\" by Simply Red\n",
      "\t\"Losing Love (DJ Wout Remix)\" by Milk Inc.\n",
      "\t\"Stay Close To Me\" by Margaret Becker\n",
      "\t\"Make The World Go Away\" by Ray Price\n",
      "\t\"Never Alone\" by Open Hand\n",
      "['come' 'danc' 'light' 'see' 'pleas' 'roll' 'hous' 'yea' 'bye' 'around']\n",
      "\t\"Dance Into The Light (LP Version)\" by Phil Collins\n",
      "\t\"Jenny Take a Ride\" by Mitch Ryder\n",
      "\t\"Love Lights\" by The Sonics\n",
      "\t\"Come On-a My House\" by Barbara Lusch\n",
      "\t\"Down On Him\" by Pursuit Of Happiness\n",
      "['believ' 'rock' 'gone' 'easi' 'true' 'morn' 'blue' 'mama' 'hard' 'daddi']\n",
      "\t\"Chicago Bound Blues\" by Bessie Smith\n",
      "\t\"What's Wrong\" by Dead To Me\n",
      "\t\"Down On The Farm (2006 Remastered Edit Version)\" by Little Feat\n",
      "\t\"Early In The Morning\" by B.B. King\n",
      "\t\"Popovic\" by Mando Diao\n",
      "['night' 'call' 'hell' 'ay' 'black' 'moon' 'high' 'dark' 'shall' 'star']\n",
      "\t\"Ascendant\" by Keep Of Kalessin\n",
      "\t\"Prvni vesela\" by Krystof\n",
      "\t\"One the road (to Damnation)\" by It Dies Today\n",
      "\t\"Her Golden Robe In Silence Veiled\" by Autumnblaze\n",
      "\t\"The Haunting\" by The Misfits\n",
      "['na' '2' 'denk' '1' 'ja' '3' 'immer' 'nao' 'mehr' 'fur']\n",
      "\t\"Denk\" by Samy Deluxe\n",
      "\t\"Die Meisten\" by Samy Deluxe\n",
      "\t\"Nordcore\" by Pyranja\n",
      "\t\"Ihmisen Lento\" by Indica\n",
      "\t\"Rendezvous - Ich hab' Dich seit langem nicht gesehen\" by Jawoll\n",
      "['comm' 'petit' 'san' 'woah' 'ici' 'main' 'encor' 'rien' 'cett' 'fill']\n",
      "\t\"Le Zoo De Vincennes\" by Benabar\n",
      "\t\"Juste Une Petite Fille\" by Maurane\n",
      "\t\"1987\" by 2 Minutos\n",
      "\t\"L'Amour Existe Encore\" by Lara Fabian\n",
      "\t\"Rolo Le Baroudeur\" by Julien Clerc\n",
      "['get' 'like' 'got' 'make' 'caus' 'know' 'nigga' 'back' 'yeah' 'go']\n",
      "\t\"Muh- F***a\" by Redman\n",
      "\t\"You Gotta Be Movin'\" by Corona\n",
      "\t\"Bad Seed\" by Wayne Kramer\n",
      "\t\"We Got What You Want\" by Busta Rhymes\n",
      "\t\"Head Banger\" by EPMD\n"
     ]
    }
   ],
   "source": [
    "conn = sqlite3.connect('../../data/MillionSongSubset/AdditionalFiles/subset_track_metadata.db')\n",
    "q = \"SELECT title, artist_name FROM songs WHERE track_id = '{}';\"\n",
    "# q2 = \"SELECT title, artist_name FROM songs WHERE track_id = 'TRAWVWS128F42ADCD1';\"\n",
    "# print q.format(imp_track_ids[0])\n",
    "for track_ids, topic in zip(imp_3track_ids,filtered):\n",
    "    print topic[:10]\n",
    "    formatted = '\\t\"{}\" by {}'\n",
    "    for track_id in track_ids:\n",
    "        song,artist= conn.execute(q.format(track_id)).fetchone()\n",
    "        print formatted.format(unidecode(song), unidecode(artist), topic[0:5])\n",
    "conn.close()"
   ]
  },
  {
   "cell_type": "code",
   "execution_count": 82,
   "metadata": {
    "collapsed": false
   },
   "outputs": [
    {
     "data": {
      "text/plain": [
       "2350"
      ]
     },
     "execution_count": 82,
     "metadata": {},
     "output_type": "execute_result"
    }
   ],
   "source": [
    "len(X)"
   ]
  },
  {
   "cell_type": "code",
   "execution_count": 83,
   "metadata": {
    "collapsed": false
   },
   "outputs": [
    {
     "data": {
      "text/plain": [
       "Counter({0: 9,\n",
       "         1: 22,\n",
       "         2: 66,\n",
       "         3: 82,\n",
       "         4: 179,\n",
       "         5: 12,\n",
       "         6: 398,\n",
       "         7: 8,\n",
       "         8: 19,\n",
       "         9: 16,\n",
       "         10: 281,\n",
       "         11: 744,\n",
       "         12: 24,\n",
       "         13: 12,\n",
       "         14: 19,\n",
       "         15: 51,\n",
       "         16: 15,\n",
       "         17: 393})"
      ]
     },
     "execution_count": 83,
     "metadata": {},
     "output_type": "execute_result"
    }
   ],
   "source": [
    "c = Counter(np.argmax(X,axis=1))\n",
    "c"
   ]
  },
  {
   "cell_type": "code",
   "execution_count": 28,
   "metadata": {
    "collapsed": false
   },
   "outputs": [
    {
     "data": {
      "text/plain": [
       "(26, 5000)"
      ]
     },
     "execution_count": 28,
     "metadata": {},
     "output_type": "execute_result"
    }
   ],
   "source": [
    "components.shape"
   ]
  },
  {
   "cell_type": "code",
   "execution_count": 157,
   "metadata": {
    "collapsed": false
   },
   "outputs": [
    {
     "data": {
      "text/plain": [
       "26"
      ]
     },
     "execution_count": 157,
     "metadata": {},
     "output_type": "execute_result"
    }
   ],
   "source": [
    "len(c)"
   ]
  },
  {
   "cell_type": "code",
   "execution_count": 164,
   "metadata": {
    "collapsed": false
   },
   "outputs": [
    {
     "data": {
      "text/plain": [
       "True"
      ]
     },
     "execution_count": 164,
     "metadata": {},
     "output_type": "execute_result"
    }
   ],
   "source": [
    "np.all(X>0)"
   ]
  },
  {
   "cell_type": "code",
   "execution_count": 186,
   "metadata": {
    "collapsed": false
   },
   "outputs": [
    {
     "data": {
      "text/plain": [
       "177"
      ]
     },
     "execution_count": 186,
     "metadata": {},
     "output_type": "execute_result"
    }
   ],
   "source": [
    "sum(X[:,0]> X[:,1])"
   ]
  },
  {
   "cell_type": "code",
   "execution_count": 198,
   "metadata": {
    "collapsed": false
   },
   "outputs": [
    {
     "data": {
      "text/plain": [
       "array([[  4.13564930e-04,   4.13564930e-04,   4.13564930e-04, ...,\n",
       "          4.13564930e-04,   1.12188362e-01,   4.13564930e-04],\n",
       "       [  7.25689405e-04,   7.25689405e-04,   7.25689405e-04, ...,\n",
       "          7.25689405e-04,   1.03806499e-01,   7.25689405e-04],\n",
       "       [  4.18060201e-04,   1.12876254e-02,   4.18060201e-04, ...,\n",
       "          4.18060201e-04,   9.67809365e-01,   4.18060201e-04],\n",
       "       ..., \n",
       "       [  3.84615385e-02,   3.84615385e-02,   3.84615385e-02, ...,\n",
       "          3.84615385e-02,   3.84615385e-02,   3.84615385e-02],\n",
       "       [  3.84615385e-02,   3.84615385e-02,   3.84615385e-02, ...,\n",
       "          3.84615385e-02,   3.84615385e-02,   3.84615385e-02],\n",
       "       [  3.84615385e-02,   3.84615385e-02,   3.84615385e-02, ...,\n",
       "          3.84615385e-02,   3.84615385e-02,   3.84615385e-02]])"
      ]
     },
     "execution_count": 198,
     "metadata": {},
     "output_type": "execute_result"
    }
   ],
   "source": [
    "X"
   ]
  },
  {
   "cell_type": "code",
   "execution_count": 200,
   "metadata": {
    "collapsed": false
   },
   "outputs": [
    {
     "data": {
      "text/plain": [
       "177"
      ]
     },
     "execution_count": 200,
     "metadata": {},
     "output_type": "execute_result"
    }
   ],
   "source": [
    "sum(X[:,0]>X[:,1])"
   ]
  },
  {
   "cell_type": "code",
   "execution_count": 201,
   "metadata": {
    "collapsed": false
   },
   "outputs": [
    {
     "data": {
      "text/plain": [
       "6824"
      ]
     },
     "execution_count": 201,
     "metadata": {},
     "output_type": "execute_result"
    }
   ],
   "source": [
    "sum(X[:,0]>=X[:,1])"
   ]
  },
  {
   "cell_type": "code",
   "execution_count": 202,
   "metadata": {
    "collapsed": false
   },
   "outputs": [
    {
     "data": {
      "text/plain": [
       "(7506, 26)"
      ]
     },
     "execution_count": 202,
     "metadata": {},
     "output_type": "execute_result"
    }
   ],
   "source": [
    "X.shape"
   ]
  },
  {
   "cell_type": "code",
   "execution_count": 206,
   "metadata": {
    "collapsed": false
   },
   "outputs": [
    {
     "name": "stdout",
     "output_type": "stream",
     "text": [
      "6647\n",
      "5364\n",
      "6347\n",
      "6539\n",
      "5611\n",
      "5803\n",
      "5311\n",
      "5885\n",
      "5428\n",
      "5915\n",
      "5525\n",
      "5339\n",
      "5358\n",
      "5367\n",
      "5261\n",
      "6973\n",
      "5801\n",
      "7112\n",
      "6468\n",
      "5929\n",
      "7020\n",
      "5285\n",
      "6961\n",
      "5279\n",
      "5722\n"
     ]
    }
   ],
   "source": [
    "for i in xrange(1,26):\n",
    "    print sum(X[:,0]==X[:,i])"
   ]
  },
  {
   "cell_type": "markdown",
   "metadata": {
    "collapsed": true
   },
   "source": [
    "### Does clustering work?"
   ]
  },
  {
   "cell_type": "code",
   "execution_count": 47,
   "metadata": {
    "collapsed": false
   },
   "outputs": [],
   "source": [
    "from sklearn.cluster import KMeans"
   ]
  },
  {
   "cell_type": "code",
   "execution_count": 52,
   "metadata": {
    "collapsed": true
   },
   "outputs": [],
   "source": [
    "kmean = KMeans(n_clusters=15,n_jobs=-1)"
   ]
  },
  {
   "cell_type": "code",
   "execution_count": 53,
   "metadata": {
    "collapsed": false
   },
   "outputs": [],
   "source": [
    "pred = kmean.fit_predict(df)"
   ]
  },
  {
   "cell_type": "code",
   "execution_count": 54,
   "metadata": {
    "collapsed": false
   },
   "outputs": [
    {
     "data": {
      "text/plain": [
       "Counter({0: 265,\n",
       "         1: 113,\n",
       "         2: 17,\n",
       "         3: 1,\n",
       "         4: 2,\n",
       "         5: 1,\n",
       "         6: 93,\n",
       "         7: 2,\n",
       "         8: 1240,\n",
       "         9: 104,\n",
       "         10: 3,\n",
       "         11: 34,\n",
       "         12: 1,\n",
       "         13: 1,\n",
       "         14: 473})"
      ]
     },
     "execution_count": 54,
     "metadata": {},
     "output_type": "execute_result"
    }
   ],
   "source": [
    "Counter(pred)"
   ]
  },
  {
   "cell_type": "markdown",
   "metadata": {},
   "source": [
    "### Too many ties! Try \"drafting\" points in case of tie"
   ]
  },
  {
   "cell_type": "code",
   "execution_count": 68,
   "metadata": {
    "collapsed": false
   },
   "outputs": [
    {
     "data": {
      "text/plain": [
       "(7506, 15)"
      ]
     },
     "execution_count": 68,
     "metadata": {},
     "output_type": "execute_result"
    }
   ],
   "source": [
    "X.shape"
   ]
  },
  {
   "cell_type": "code",
   "execution_count": 43,
   "metadata": {
    "collapsed": false
   },
   "outputs": [
    {
     "data": {
      "text/plain": [
       "(array([1870]),)"
      ]
     },
     "execution_count": 43,
     "metadata": {},
     "output_type": "execute_result"
    }
   ],
   "source": [
    "np.where(X[:,0]==X[:,1])"
   ]
  },
  {
   "cell_type": "code",
   "execution_count": 44,
   "metadata": {
    "collapsed": false
   },
   "outputs": [
    {
     "data": {
      "text/plain": [
       "'TRAAMPA128F92E7D0D'"
      ]
     },
     "execution_count": 44,
     "metadata": {},
     "output_type": "execute_result"
    }
   ],
   "source": [
    "df.index[3]"
   ]
  },
  {
   "cell_type": "code",
   "execution_count": 45,
   "metadata": {
    "collapsed": false
   },
   "outputs": [
    {
     "data": {
      "text/plain": [
       "(array([   0,    1,    2, ..., 2347, 2348, 2349]),\n",
       " array([ 7, 12,  4, ...,  4, 14, 12]))"
      ]
     },
     "execution_count": 45,
     "metadata": {},
     "output_type": "execute_result"
    }
   ],
   "source": [
    "np.where(X==np.max(X,axis=1)[:,np.newaxis])"
   ]
  },
  {
   "cell_type": "code",
   "execution_count": 46,
   "metadata": {
    "collapsed": false
   },
   "outputs": [
    {
     "data": {
      "text/plain": [
       "Counter({1: 2349, 15: 1})"
      ]
     },
     "execution_count": 46,
     "metadata": {},
     "output_type": "execute_result"
    }
   ],
   "source": [
    "ties = []\n",
    "for i,m in enumerate(np.max(X,axis=1)):\n",
    "    ties.append(len(np.where(X[i]==m)[0]))\n",
    "Counter(ties)\n",
    "# print ties"
   ]
  },
  {
   "cell_type": "code",
   "execution_count": 55,
   "metadata": {
    "collapsed": false
   },
   "outputs": [
    {
     "data": {
      "text/plain": [
       "(26, 5000)"
      ]
     },
     "execution_count": 55,
     "metadata": {},
     "output_type": "execute_result"
    }
   ],
   "source": [
    "components.shape"
   ]
  },
  {
   "cell_type": "code",
   "execution_count": 61,
   "metadata": {
    "collapsed": false
   },
   "outputs": [
    {
     "data": {
      "text/plain": [
       "array([ 0.03846154,  0.03846154,  0.03846154,  0.03846154,  0.03846154,\n",
       "        0.03846154,  0.03846154,  0.03846154,  0.03846154,  0.03846154,\n",
       "        0.03846154,  0.03846154,  0.03846154,  0.03846154,  0.03846154,\n",
       "        0.03846154,  0.03846154,  0.03846154,  0.03846154,  0.03846154,\n",
       "        0.03846154,  0.03846154,  0.03846154,  0.03846154,  0.03846154,\n",
       "        0.03846154])"
      ]
     },
     "execution_count": 61,
     "metadata": {},
     "output_type": "execute_result"
    }
   ],
   "source": [
    "X[6]"
   ]
  },
  {
   "cell_type": "code",
   "execution_count": 62,
   "metadata": {
    "collapsed": false
   },
   "outputs": [
    {
     "data": {
      "text/plain": [
       "array([ 0.03846154,  0.03846154,  0.03846154,  0.03846154,  0.03846154,\n",
       "        0.03846154,  0.03846154,  0.03846154,  0.03846154,  0.03846154,\n",
       "        0.03846154,  0.03846154,  0.03846154,  0.03846154,  0.03846154,\n",
       "        0.03846154,  0.03846154,  0.03846154,  0.03846154,  0.03846154,\n",
       "        0.03846154,  0.03846154,  0.03846154,  0.03846154,  0.03846154,\n",
       "        0.03846154])"
      ]
     },
     "execution_count": 62,
     "metadata": {},
     "output_type": "execute_result"
    }
   ],
   "source": [
    "X[7]"
   ]
  },
  {
   "cell_type": "code",
   "execution_count": 63,
   "metadata": {
    "collapsed": false
   },
   "outputs": [
    {
     "data": {
      "text/plain": [
       "0.99999999999999956"
      ]
     },
     "execution_count": 63,
     "metadata": {},
     "output_type": "execute_result"
    }
   ],
   "source": [
    "sum(X[7])"
   ]
  },
  {
   "cell_type": "code",
   "execution_count": 84,
   "metadata": {
    "collapsed": false
   },
   "outputs": [
    {
     "data": {
      "text/plain": [
       "array([ 0.06666667,  0.06666667,  0.06666667,  0.06666667,  0.06666667,\n",
       "        0.06666667,  0.06666667,  0.06666667,  0.06666667,  0.06666667,\n",
       "        0.06666667,  0.06666667,  0.06666667,  0.06666667,  0.06666667])"
      ]
     },
     "execution_count": 84,
     "metadata": {},
     "output_type": "execute_result"
    }
   ],
   "source": [
    "X[6]"
   ]
  },
  {
   "cell_type": "code",
   "execution_count": 88,
   "metadata": {
    "collapsed": false
   },
   "outputs": [],
   "source": [
    "ind = df.index[6]"
   ]
  },
  {
   "cell_type": "code",
   "execution_count": 92,
   "metadata": {
    "collapsed": false
   },
   "outputs": [
    {
     "data": {
      "text/plain": [
       "70.0"
      ]
     },
     "execution_count": 92,
     "metadata": {},
     "output_type": "execute_result"
    }
   ],
   "source": [
    "df.loc[6].sum()"
   ]
  },
  {
   "cell_type": "code",
   "execution_count": 5,
   "metadata": {
    "collapsed": false
   },
   "outputs": [
    {
     "data": {
      "text/plain": [
       "0"
      ]
     },
     "execution_count": 5,
     "metadata": {},
     "output_type": "execute_result"
    }
   ],
   "source": [
    "(df.iloc[6]>0).sum()"
   ]
  },
  {
   "cell_type": "code",
   "execution_count": null,
   "metadata": {
    "collapsed": true
   },
   "outputs": [],
   "source": []
  }
 ],
 "metadata": {
  "kernelspec": {
   "display_name": "Python 2",
   "language": "python",
   "name": "python2"
  },
  "language_info": {
   "codemirror_mode": {
    "name": "ipython",
    "version": 2
   },
   "file_extension": ".py",
   "mimetype": "text/x-python",
   "name": "python",
   "nbconvert_exporter": "python",
   "pygments_lexer": "ipython2",
   "version": "2.7.11"
  }
 },
 "nbformat": 4,
 "nbformat_minor": 0
}
