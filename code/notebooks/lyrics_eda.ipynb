{
 "cells": [
  {
   "cell_type": "markdown",
   "metadata": {},
   "source": [
    "# NMF For Topic Modelling "
   ]
  },
  {
   "cell_type": "code",
   "execution_count": 62,
   "metadata": {
    "collapsed": false
   },
   "outputs": [],
   "source": [
    "import pandas as pd\n",
    "import numpy as np\n",
    "from sklearn.decomposition import NMF\n",
    "from nltk.corpus import stopwords\n",
    "from unidecode import unidecode"
   ]
  },
  {
   "cell_type": "code",
   "execution_count": 2,
   "metadata": {
    "collapsed": false
   },
   "outputs": [],
   "source": [
    "path = '../../data/lyrics/data/subset_bof.csv'\n",
    "df = pd.read_csv(path,index_col=0)"
   ]
  },
  {
   "cell_type": "code",
   "execution_count": 5,
   "metadata": {
    "collapsed": false
   },
   "outputs": [
    {
     "data": {
      "text/html": [
       "<div>\n",
       "<table border=\"1\" class=\"dataframe\">\n",
       "  <thead>\n",
       "    <tr style=\"text-align: right;\">\n",
       "      <th></th>\n",
       "      <th>i</th>\n",
       "      <th>the</th>\n",
       "      <th>you</th>\n",
       "      <th>to</th>\n",
       "      <th>and</th>\n",
       "      <th>a</th>\n",
       "      <th>me</th>\n",
       "      <th>it</th>\n",
       "      <th>not</th>\n",
       "      <th>in</th>\n",
       "      <th>...</th>\n",
       "      <th>writer</th>\n",
       "      <th>motivo</th>\n",
       "      <th>bake</th>\n",
       "      <th>insist</th>\n",
       "      <th>wel</th>\n",
       "      <th>santo</th>\n",
       "      <th>pe</th>\n",
       "      <th>gee</th>\n",
       "      <th>colleg</th>\n",
       "      <th>kad</th>\n",
       "    </tr>\n",
       "  </thead>\n",
       "  <tbody>\n",
       "    <tr>\n",
       "      <th>TRAYYAU128F92D58D0</th>\n",
       "      <td>0.0</td>\n",
       "      <td>3.0</td>\n",
       "      <td>4.0</td>\n",
       "      <td>2.0</td>\n",
       "      <td>4.0</td>\n",
       "      <td>5.0</td>\n",
       "      <td>0.0</td>\n",
       "      <td>0.0</td>\n",
       "      <td>7.0</td>\n",
       "      <td>0.0</td>\n",
       "      <td>...</td>\n",
       "      <td>0.0</td>\n",
       "      <td>0.0</td>\n",
       "      <td>0.0</td>\n",
       "      <td>0.0</td>\n",
       "      <td>0.0</td>\n",
       "      <td>0.0</td>\n",
       "      <td>0.0</td>\n",
       "      <td>0.0</td>\n",
       "      <td>0.0</td>\n",
       "      <td>0.0</td>\n",
       "    </tr>\n",
       "    <tr>\n",
       "      <th>TRARURM128F931A91B</th>\n",
       "      <td>5.0</td>\n",
       "      <td>5.0</td>\n",
       "      <td>9.0</td>\n",
       "      <td>2.0</td>\n",
       "      <td>0.0</td>\n",
       "      <td>4.0</td>\n",
       "      <td>0.0</td>\n",
       "      <td>1.0</td>\n",
       "      <td>2.0</td>\n",
       "      <td>0.0</td>\n",
       "      <td>...</td>\n",
       "      <td>0.0</td>\n",
       "      <td>0.0</td>\n",
       "      <td>0.0</td>\n",
       "      <td>0.0</td>\n",
       "      <td>0.0</td>\n",
       "      <td>0.0</td>\n",
       "      <td>0.0</td>\n",
       "      <td>0.0</td>\n",
       "      <td>0.0</td>\n",
       "      <td>0.0</td>\n",
       "    </tr>\n",
       "    <tr>\n",
       "      <th>TRAMSSK128F92FDC80</th>\n",
       "      <td>8.0</td>\n",
       "      <td>13.0</td>\n",
       "      <td>5.0</td>\n",
       "      <td>1.0</td>\n",
       "      <td>6.0</td>\n",
       "      <td>4.0</td>\n",
       "      <td>1.0</td>\n",
       "      <td>0.0</td>\n",
       "      <td>5.0</td>\n",
       "      <td>7.0</td>\n",
       "      <td>...</td>\n",
       "      <td>0.0</td>\n",
       "      <td>0.0</td>\n",
       "      <td>0.0</td>\n",
       "      <td>0.0</td>\n",
       "      <td>0.0</td>\n",
       "      <td>0.0</td>\n",
       "      <td>0.0</td>\n",
       "      <td>0.0</td>\n",
       "      <td>0.0</td>\n",
       "      <td>0.0</td>\n",
       "    </tr>\n",
       "    <tr>\n",
       "      <th>TRAAMPA128F92E7D0D</th>\n",
       "      <td>17.0</td>\n",
       "      <td>0.0</td>\n",
       "      <td>4.0</td>\n",
       "      <td>4.0</td>\n",
       "      <td>5.0</td>\n",
       "      <td>20.0</td>\n",
       "      <td>8.0</td>\n",
       "      <td>18.0</td>\n",
       "      <td>2.0</td>\n",
       "      <td>0.0</td>\n",
       "      <td>...</td>\n",
       "      <td>0.0</td>\n",
       "      <td>0.0</td>\n",
       "      <td>0.0</td>\n",
       "      <td>0.0</td>\n",
       "      <td>0.0</td>\n",
       "      <td>0.0</td>\n",
       "      <td>0.0</td>\n",
       "      <td>0.0</td>\n",
       "      <td>0.0</td>\n",
       "      <td>0.0</td>\n",
       "    </tr>\n",
       "    <tr>\n",
       "      <th>TRAWHZK12903CB5A01</th>\n",
       "      <td>18.0</td>\n",
       "      <td>1.0</td>\n",
       "      <td>3.0</td>\n",
       "      <td>6.0</td>\n",
       "      <td>0.0</td>\n",
       "      <td>2.0</td>\n",
       "      <td>0.0</td>\n",
       "      <td>1.0</td>\n",
       "      <td>5.0</td>\n",
       "      <td>0.0</td>\n",
       "      <td>...</td>\n",
       "      <td>0.0</td>\n",
       "      <td>0.0</td>\n",
       "      <td>0.0</td>\n",
       "      <td>0.0</td>\n",
       "      <td>0.0</td>\n",
       "      <td>0.0</td>\n",
       "      <td>0.0</td>\n",
       "      <td>0.0</td>\n",
       "      <td>0.0</td>\n",
       "      <td>0.0</td>\n",
       "    </tr>\n",
       "  </tbody>\n",
       "</table>\n",
       "<p>5 rows × 5000 columns</p>\n",
       "</div>"
      ],
      "text/plain": [
       "                       i   the  you   to  and     a   me    it  not   in ...   \\\n",
       "TRAYYAU128F92D58D0   0.0   3.0  4.0  2.0  4.0   5.0  0.0   0.0  7.0  0.0 ...    \n",
       "TRARURM128F931A91B   5.0   5.0  9.0  2.0  0.0   4.0  0.0   1.0  2.0  0.0 ...    \n",
       "TRAMSSK128F92FDC80   8.0  13.0  5.0  1.0  6.0   4.0  1.0   0.0  5.0  7.0 ...    \n",
       "TRAAMPA128F92E7D0D  17.0   0.0  4.0  4.0  5.0  20.0  8.0  18.0  2.0  0.0 ...    \n",
       "TRAWHZK12903CB5A01  18.0   1.0  3.0  6.0  0.0   2.0  0.0   1.0  5.0  0.0 ...    \n",
       "\n",
       "                    writer  motivo  bake  insist  wel  santo   pe  gee  \\\n",
       "TRAYYAU128F92D58D0     0.0     0.0   0.0     0.0  0.0    0.0  0.0  0.0   \n",
       "TRARURM128F931A91B     0.0     0.0   0.0     0.0  0.0    0.0  0.0  0.0   \n",
       "TRAMSSK128F92FDC80     0.0     0.0   0.0     0.0  0.0    0.0  0.0  0.0   \n",
       "TRAAMPA128F92E7D0D     0.0     0.0   0.0     0.0  0.0    0.0  0.0  0.0   \n",
       "TRAWHZK12903CB5A01     0.0     0.0   0.0     0.0  0.0    0.0  0.0  0.0   \n",
       "\n",
       "                    colleg  kad  \n",
       "TRAYYAU128F92D58D0     0.0  0.0  \n",
       "TRARURM128F931A91B     0.0  0.0  \n",
       "TRAMSSK128F92FDC80     0.0  0.0  \n",
       "TRAAMPA128F92E7D0D     0.0  0.0  \n",
       "TRAWHZK12903CB5A01     0.0  0.0  \n",
       "\n",
       "[5 rows x 5000 columns]"
      ]
     },
     "execution_count": 5,
     "metadata": {},
     "output_type": "execute_result"
    }
   ],
   "source": [
    "df.head()"
   ]
  },
  {
   "cell_type": "markdown",
   "metadata": {},
   "source": [
    "### How Sparse Is Our Data?"
   ]
  },
  {
   "cell_type": "code",
   "execution_count": 12,
   "metadata": {
    "collapsed": false
   },
   "outputs": [
    {
     "data": {
      "text/plain": [
       "0.99460578204103389"
      ]
     },
     "execution_count": 12,
     "metadata": {},
     "output_type": "execute_result"
    }
   ],
   "source": [
    "(df==0).sum().sum()/np.product(df.shape).astype(float)"
   ]
  },
  {
   "cell_type": "markdown",
   "metadata": {},
   "source": [
    "### Try NMF"
   ]
  },
  {
   "cell_type": "code",
   "execution_count": 6,
   "metadata": {
    "collapsed": false
   },
   "outputs": [],
   "source": [
    "n = 15\n",
    "iters = 10000\n",
    "nmf = NMF(n_components=n,init='random')"
   ]
  },
  {
   "cell_type": "code",
   "execution_count": 7,
   "metadata": {
    "collapsed": true
   },
   "outputs": [],
   "source": [
    "# subset = df.values[:,:1500]\n",
    "W = nmf.fit_transform(df)\n",
    "H=nmf.components_"
   ]
  },
  {
   "cell_type": "code",
   "execution_count": 8,
   "metadata": {
    "collapsed": false
   },
   "outputs": [],
   "source": [
    "mask=np.array([row[::-1] for row in np.argsort(H,axis=1)])[:,:100]"
   ]
  },
  {
   "cell_type": "code",
   "execution_count": 9,
   "metadata": {
    "collapsed": false
   },
   "outputs": [],
   "source": [
    "possible = np.array(df.columns)[mask]"
   ]
  },
  {
   "cell_type": "code",
   "execution_count": 10,
   "metadata": {
    "collapsed": false
   },
   "outputs": [],
   "source": [
    "filtered = np.array([[word for word in topic  if word not in stopwords.words('english')] for topic in possible])"
   ]
  },
  {
   "cell_type": "code",
   "execution_count": 11,
   "metadata": {
    "collapsed": false
   },
   "outputs": [
    {
     "name": "stdout",
     "output_type": "stream",
     "text": [
      "['want', 'tri', 'make', 'got', 'would', 'time', 'back', 'could', 'life', 'one']\n",
      "['let', 'go', 'tell', 'get', 'like', 'yeah', 'take', 'got', 'ya', 'right']\n",
      "['love', 'know', 'see', 'think', 'want', 'feel', 'never', 'would', 'heart', 'chang']\n",
      "['get', 'like', 'come', 'littl', 'caus', 'top', 'got', 'man', 'ya', 'bitch']\n",
      "['go', 'oh', 'us', 'never', 'thing', 'day', 'everi', 'togeth', 'know', 'live']\n",
      "['come', 'get', 'said', 'start', 'could', 'eye', 'one', 'right', 'say', 'caus']\n",
      "['que', 'de', 'la', 'te', 'tu', 'en', 'el', 'mi', 'un', 'yo']\n",
      "['ca', 'go', 'know', 'babi', 'got', 'wanna', 'ai', 'wo', 'realli', 'thing']\n",
      "['da', 'like', 'niggaz', 'next', 'fuck', 'na', 'wish', 'want', 'drink', 'rhyme']\n",
      "['head', 'one', 'see', 'like', 'say', 'light', 'world', 'nigga', 'follow', 'fuck']\n",
      "['love', 'babi', 'let', 'come', 'help', 'tell', 'call', 'girl', 'go', 'make']\n",
      "['oh', 'hood', 'life', 'hous', 'love', 'babi', 'got', 'heart', 'nigga', 'would']\n",
      "['ich', 'und', 'denk', 'du', 'die', 'nicht', 'das', 'es', 'der', 'ist']\n",
      "['whi', 'love', 'hot', 'song', 'say', 'ca', 'life', 'time', 'coz', 'everyth']\n",
      "['know', 'never', 'like', 'get', 'would', 'caus', 'see', 'need', 'feel', 'gonna']\n"
     ]
    }
   ],
   "source": [
    "for topic in filtered:\n",
    "    print topic[:10]"
   ]
  },
  {
   "cell_type": "markdown",
   "metadata": {
    "collapsed": true
   },
   "source": [
    "### Try LDA"
   ]
  },
  {
   "cell_type": "code",
   "execution_count": 3,
   "metadata": {
    "collapsed": true
   },
   "outputs": [],
   "source": [
    "from sklearn.decomposition import LatentDirichletAllocation as LDA"
   ]
  },
  {
   "cell_type": "code",
   "execution_count": 75,
   "metadata": {
    "collapsed": true
   },
   "outputs": [],
   "source": [
    "n = 30\n",
    "lda = LDA(n_topics=n)"
   ]
  },
  {
   "cell_type": "code",
   "execution_count": 76,
   "metadata": {
    "collapsed": false
   },
   "outputs": [
    {
     "name": "stderr",
     "output_type": "stream",
     "text": [
      "/Users/christopherliu/anaconda/lib/python2.7/site-packages/sklearn/decomposition/online_lda.py:508: DeprecationWarning: The default value for 'learning_method' will be changed from 'online' to 'batch' in the release 0.20. This warning was introduced in 0.18.\n",
      "  DeprecationWarning)\n"
     ]
    }
   ],
   "source": [
    "X = lda.fit_transform(df)"
   ]
  },
  {
   "cell_type": "code",
   "execution_count": 77,
   "metadata": {
    "collapsed": false
   },
   "outputs": [
    {
     "name": "stderr",
     "output_type": "stream",
     "text": [
      "/Users/christopherliu/anaconda/lib/python2.7/site-packages/ipykernel/__main__.py:4: UnicodeWarning: Unicode equal comparison failed to convert both arguments to Unicode - interpreting them as being unequal\n"
     ]
    },
    {
     "name": "stdout",
     "output_type": "stream",
     "text": [
      "['get', 'ya', 'like', 'nigga', 'shit', 'fuck', 'da', 'yo', 'em', 'yall', 'hot', 'parti']\n",
      "['love', 'know', 'want', 'would', 'feel', 'say', 'time', 'never', 'ca', 'see', 'thing', 'one']\n",
      "['victim', 'disconnect', 'p', 'circumst', 'robot', 'ow', 'june', 'leaf', 'balloon', 'aha', 'jim', 'santa']\n",
      "['like', 'got', 'get', 'make', 'back', 'know', 'go', 'take', 'caus', 'see', 'well', 'man']\n",
      "['nah', 'final', 'oi', 'favor', 'spoon', 'dat', 'oper', 'ei', 'possibl', 'metal', 'devil', 'worm']\n",
      "['na', 'e', 'eu', 'um', 'meu', 'cantar', 'quero', 'pra', 'sem', 'seu', 'com', 'vou']\n",
      "['volta', 'tenho', 'ficar', 'ond', 'sail', 'sempr', 'lua', 'ann', 'come', 'joe', 'say', 'see']\n",
      "['song', 'man', 'old', 'said', 'stand', 'round', 'jesus', '&', 'goin', 'play', 'start', 'son']\n",
      "['babi', 'let', 'go', 'ay', 'take', 'fantasi', 'got', 'ladi', 'blame', 'cant', 'wont', 'tonight']\n",
      "['ich', 'und', 'du', 'die', 'das', 'dem', 'der', 'nicht', 'ist', 'es', 'mich', 'auf']\n",
      "['rain', 'fire', 'chorus', 'heaven', 'black', 'war', 'bottom', 'natur', 'jah', 'savior', 'fi', 'pure']\n",
      "['cruel', 'bo', 'dum', 'rave', 'mississippi', 'doo', 'bald', 'anch', 'sento', 'pone', 'stitch', 'kaikki']\n",
      "['dame', 'basta', 'georgia', 'oer', 'bonni', 'ahhh', 'frei', 'vale', 'submit', 'debo', 'amo', 'misma']\n",
      "['togeth', 'forev', 'lie', 'anoth', 'help', 'lover', 'fall', 'control', 'u', 'sweet', 'love', 'littl']\n",
      "['oh', 'hey', 'danc', 'music', 'alright', 'everybodi', 'woman', 'pleas', 'gonna', 'talk', 'white', 'hous']\n",
      "['come', 'turn', 'sail', 'jame', 'fade', 'weather', 'salli', 'wait', 'field', 'ladder', 'grass', 'hungri']\n",
      "['rock', 'roll', 'n', 'chao', 'linda', 'whatcha', 'pig', 'sha', 'scienc', 'glimps', 'gasolin', 'commit']\n",
      "['yeah', 'oh', 'night', 'ah', 'ooh', 'ca', 'whoa', 'take', 'heart', 'away', 'break', 'ohh']\n",
      "['famili', 'trembl', 'cotton', 'negra', 'attitud', 'rocket', 'tempo', 'coal', 'cambiar', 'map', 'amongst', 'fiesta']\n",
      "['world', 'life', 'god', 'light', 'one', 'lord', 'live', 'see', 'save', 'us', 'sing', 'time']\n",
      "['girl', 'gone', 'town', 'night', 'brown', 'left', 'friend', 'mari', 'monday', 'river', 'see', 'arriv']\n",
      "['men', 'till', 'som', 'har', 'kan', 'det', 'ur', 'oo', 'vi', 'vill', 'nu', 'av']\n",
      "['la', 'de', 'je', 'et', 'les', 'le', 'pas', 'des', 'un', 'dan', 'qui', 'pour']\n",
      "['saturday', 'sunday', 'friday', 'tuesday', 'sugar', 'envi', 'vain', 'willow', 'niin', 'sua', 'lento', 'kun']\n",
      "['nuh', 'olvidar', 'sol', 'vultur', 'quedan', 'caso', 'yuh', 'sola', 'sanctuari', 'cae', 'ko', 'quieren']\n",
      "['que', 'de', 'la', 'te', 'en', 'el', 'mi', 'tu', 'yo', 'es', 'un', 'lo']\n",
      "['us', 'rememb', 'wish', 'see', 'year', 'thing', 'go', 'christma', 'ride', 'hope', 'never', 'wo']\n",
      "['slap', 'satellit', 'pare', 'devour', 'rosa', 'mag', 'diablo', 'pedir', 'vuelto', 'corr', 'herz', 'letzt']\n",
      "['day', 'eye', 'dream', 'one', 'burn', 'sky', 'night', 'away', 'mind', 'onli', 'road', 'time']\n",
      "['vamo', 'samba', 'tres', 'decay', 'hermano', 'essa', 'mend', 'tuyo', 'creo', 'llego', 'blanco', 'canta']\n"
     ]
    }
   ],
   "source": [
    "components = lda.components_\n",
    "mask=np.array([row[::-1] for row in np.argsort(components,axis=1)])[:,:100]\n",
    "possible = np.array(df.columns)[mask]\n",
    "filtered = np.array([[word for word in topic  if word not in stopwords.words('english')] for topic in possible])\n",
    "\n",
    "for topic in filtered:\n",
    "    print topic[:12]"
   ]
  },
  {
   "cell_type": "code",
   "execution_count": 101,
   "metadata": {
    "collapsed": false
   },
   "outputs": [
    {
     "data": {
      "text/plain": [
       "(7506, 30)"
      ]
     },
     "execution_count": 101,
     "metadata": {},
     "output_type": "execute_result"
    }
   ],
   "source": [
    "ind_mask = np.argmax(X,axis=0)\n",
    "ind_mask.shape\n",
    "X.shape"
   ]
  },
  {
   "cell_type": "code",
   "execution_count": 79,
   "metadata": {
    "collapsed": false
   },
   "outputs": [],
   "source": [
    "imp_track_ids = np.array(df.index)[ind_mask]"
   ]
  },
  {
   "cell_type": "code",
   "execution_count": 80,
   "metadata": {
    "collapsed": false
   },
   "outputs": [
    {
     "name": "stdout",
     "output_type": "stream",
     "text": [
      "\"You Gotta Be Movin'\" by Corona, Keywords: ['get', 'ya', 'like', 'nigga', 'shit']\n",
      "\"It's Not Me\" by 3 Doors Down, Keywords: ['love', 'know', 'want', 'would', 'feel']\n",
      "\"Victim Of Circumstance\" by Ten Years After, Keywords: ['victim', 'disconnect', 'p', 'circumst', 'robot']\n",
      "\"Give It To 'Em\" by Chops, Keywords: ['like', 'got', 'get', 'make', 'back']\n",
      "\"Beni Aglatma\" by Mustafa Sandal, Keywords: ['nah', 'final', 'oi', 'favor', 'spoon']\n",
      "\"Meu Bem Meu Mal (Mi Bien Mi Mal)\" by Gal Costa, Keywords: ['na', 'e', 'eu', 'um', 'meu']\n",
      "\"Civilized Reggae\" by Burning Spear, Keywords: ['volta', 'tenho', 'ficar', 'ond', 'sail']\n",
      "\"Whiskey on the Fire\" by Aaron Watson, Keywords: ['song', 'man', 'old', 'said', 'stand']\n",
      "\"Don't Upset The Rhythm (Go Baby Go)\" by Noisettes, Keywords: ['babi', 'let', 'go', 'ay', 'take']\n",
      "\"Mein Herz kann man nicht kaufen\" by Gall_ France, Keywords: ['ich', 'und', 'du', 'die', 'das']\n",
      "\"Cursed Angel Of Doom (Previously Unreleased&Re-Recorded Track)\" by Behemoth, Keywords: ['rain', 'fire', 'chorus', 'heaven', 'black']\n",
      "\"Laakista humppa\" by Elakelaiset, Keywords: ['cruel', 'bo', 'dum', 'rave', 'mississippi']\n",
      "\"Ya Basta\" by Jay Perez, Keywords: ['dame', 'basta', 'georgia', 'oer', 'bonni']\n",
      "\"Orgofart\" by Descendents, Keywords: ['togeth', 'forev', 'lie', 'anoth', 'help']\n",
      "\"Alla Fine Di Tutto Questo\" by Fabri Fibra, Keywords: ['oh', 'hey', 'danc', 'music', 'alright']\n",
      "\"River Is Waiting\" by Irma Thomas, Keywords: ['come', 'turn', 'sail', 'jame', 'fade']\n",
      "\"Myth Takes\" by !!!, Keywords: ['rock', 'roll', 'n', 'chao', 'linda']\n",
      "\"Slipping Away\" by Vivian, Keywords: ['yeah', 'oh', 'night', 'ah', 'ooh']\n",
      "\"E Samba (Accapella)\" by Junior Jack, Keywords: ['famili', 'trembl', 'cotton', 'negra', 'attitud']\n",
      "\"Facedown\" by Matt Redman, Keywords: ['world', 'life', 'god', 'light', 'one']\n",
      "\"See My Friends\" by Ray Davies, Keywords: ['girl', 'gone', 'town', 'night', 'brown']\n",
      "\"Grottans Barn\" by Finntroll, Keywords: ['men', 'till', 'som', 'har', 'kan']\n",
      "\"Ramene Moi\" by Lara Fabian, Keywords: ['la', 'de', 'je', 'et', 'les']\n",
      "\"Ihmisen Lento\" by Indica, Keywords: ['saturday', 'sunday', 'friday', 'tuesday', 'sugar']\n",
      "\"Cuatro Estrofas\" by Sandra Mihanovich, Keywords: ['nuh', 'olvidar', 'sol', 'vultur', 'quedan']\n",
      "\"Tu Robaste Mi Corazon\" by Selena, Keywords: ['que', 'de', 'la', 'te', 'en']\n",
      "\"We Wish You A Merry Christmas\" by SNOWPATROL, Keywords: ['us', 'rememb', 'wish', 'see', 'year']\n",
      "\"Slap U Around\" by GWAR, Keywords: ['slap', 'satellit', 'pare', 'devour', 'rosa']\n",
      "\"A Void Of Lifeless Dreams\" by Limbonic Art, Keywords: ['day', 'eye', 'dream', 'one', 'burn']\n",
      "\"E Samba (Accapella)\" by Junior Jack, Keywords: ['vamo', 'samba', 'tres', 'decay', 'hermano']\n"
     ]
    }
   ],
   "source": [
    "conn = sqlite3.connect('../../data/MillionSongSubset/AdditionalFiles/subset_track_metadata.db')\n",
    "q = \"SELECT title, artist_name FROM songs WHERE track_id = '{}';\"\n",
    "# q2 = \"SELECT title, artist_name FROM songs WHERE track_id = 'TRAWVWS128F42ADCD1';\"\n",
    "# print q.format(imp_track_ids[0])\n",
    "for track_id, topic in zip(imp_track_ids,filtered):\n",
    "    song,artist= conn.execute(q.format(track_id)).fetchone()\n",
    "    formatted = '\"{}\" by {}, Keywords: {}'\n",
    "    print formatted.format(unidecode(song), unidecode(artist), topic[0:5])\n",
    "conn.close()"
   ]
  },
  {
   "cell_type": "code",
   "execution_count": 112,
   "metadata": {
    "collapsed": false
   },
   "outputs": [],
   "source": [
    "songs_mask = np.argsort(X,axis=0).T\n",
    "songs_mask = np.array([mask[::-1] for mask in songs_mask])[:,:3]\n"
   ]
  },
  {
   "cell_type": "code",
   "execution_count": 113,
   "metadata": {
    "collapsed": false
   },
   "outputs": [
    {
     "data": {
      "text/plain": [
       "array([[7376,  156, 4967],\n",
       "       [4803, 6675,  548],\n",
       "       [ 546, 5275, 7102],\n",
       "       [3626, 1190, 2526],\n",
       "       [5479, 3277, 1044],\n",
       "       [5876,  922, 6806],\n",
       "       [7505, 2946, 2931],\n",
       "       [   0, 3099, 4864],\n",
       "       [ 690, 1449, 3740],\n",
       "       [2205, 2947, 2566],\n",
       "       [2714,  232,  102],\n",
       "       [5956, 2006, 2802],\n",
       "       [ 975, 6086, 6392],\n",
       "       [   3,  375, 7032],\n",
       "       [ 119, 3176,  800],\n",
       "       [ 604, 3702, 4912],\n",
       "       [1377, 4578, 3821],\n",
       "       [ 204,  126, 1065],\n",
       "       [6668, 2676, 6430],\n",
       "       [3831, 2016,  174],\n",
       "       [   8, 1282, 4864],\n",
       "       [ 590, 1330, 5860],\n",
       "       [ 575, 1732, 4479],\n",
       "       [1483, 4420, 3177],\n",
       "       [5304, 7076, 4692],\n",
       "       [3193, 1445,   52],\n",
       "       [  19,  359, 7154],\n",
       "       [3240, 1903, 6196],\n",
       "       [1657,   85,  971],\n",
       "       [6668, 4724, 5898]])"
      ]
     },
     "execution_count": 113,
     "metadata": {},
     "output_type": "execute_result"
    }
   ],
   "source": [
    "songs_mask"
   ]
  },
  {
   "cell_type": "code",
   "execution_count": 115,
   "metadata": {
    "collapsed": false
   },
   "outputs": [
    {
     "data": {
      "text/plain": [
       "array([['TRAWVWS128F42ADCD1', 'TRBFZRA128F427030C', 'TRBAHED128F426A1C2'],\n",
       "       ['TRACBWP128C7196948', 'TRARBGM12903CC5026', 'TRABUUH128F4241346'],\n",
       "       ['TRACNXS128F93395BA', 'TRAGYXL128F92F9FCB', 'TRADPDI128F92EBD32'],\n",
       "       ['TRAKOAK128F4248629', 'TRAJFRJ128F9328FF1', 'TRAZSZD128F424AA49'],\n",
       "       ['TRBGICJ128F427BA9A', 'TRARFAZ128F93481AD', 'TRAKCNI128F427BA71'],\n",
       "       ['TRBCKEI128F92FE542', 'TRBBWIP128F4287400', 'TRAPHDI128F92F5EA1'],\n",
       "       ['TRBGZFI12903CA54B6', 'TRBFKMN128F4286D1B', 'TRBCYJG128F93283CB'],\n",
       "       ['TRAYYAU128F92D58D0', 'TRBFDRD128F92F79D5', 'TRAUGYG128F428A174'],\n",
       "       ['TRAMLGE128F92F81DD', 'TRAJKMI128F4281107', 'TRAVUAJ128E078EDA2'],\n",
       "       ['TRBHSDN128F4274E9F', 'TRAQDBO128F92ED2AC', 'TRBGBIK128F4294A67'],\n",
       "       ['TRBBUOJ128F92FC6F2', 'TRANHJV128F92D819D', 'TRBBFHG128F932B9D6'],\n",
       "       ['TRBGGRK128F422CA7F', 'TRAZYZQ128F146653D', 'TRAXJIS12903CCAF92'],\n",
       "       ['TRAUKJZ128F9335412', 'TRBBPPB128F14AB242', 'TRASGOE128F42328B4'],\n",
       "       ['TRAAMPA128F92E7D0D', 'TRBDHUR128F423EC48', 'TRAUTTP128F425BDEB'],\n",
       "       ['TRAQCFH128F92FE30F', 'TRAHXJE12903CB8095', 'TRASCMB128F422B871'],\n",
       "       ['TRADRED12903CA4B7C', 'TRAJIUK128F42668E6', 'TRAGNGY12903C9CD76'],\n",
       "       ['TRAAVRJ128F92FF90A', 'TRBBEJC128F4281471', 'TRAPAES128E0786E60'],\n",
       "       ['TRBHUDB128F429A663', 'TRAEVLO128F933DE9E', 'TRAWLGG128F42884CA'],\n",
       "       ['TRAGXNU128F932C7D8', 'TRAYUKR128F9344BB4', 'TRAWTUV128F426DD46'],\n",
       "       ['TRBAMFR128F4287A3C', 'TRBGDXO128EF3531E8', 'TRACWYD128F1465B4A'],\n",
       "       ['TRASQCW12903CA07D9', 'TRATQUI128F9347C68', 'TRAUGYG128F428A174'],\n",
       "       ['TRAFABO128F933DE53', 'TRBFBUO128F42A3DED', 'TRAULJK128F4294B58'],\n",
       "       ['TRBBKXZ128F4215C88', 'TRAQRRD128F425F8E7', 'TRBBTLA128F4226907'],\n",
       "       ['TRAMNJB128F92EFDC7', 'TRAZDKY128F4235130', 'TRABPUI12903CF22CE'],\n",
       "       ['TRAURGF128F427E9B5', 'TRBESEX128F147BB13', 'TRASIWA12903CFFC4D'],\n",
       "       ['TRATCOE128F145F694', 'TRAQLOD128F145EC9D', 'TRAVLNW128F4272F05'],\n",
       "       ['TRABGLK128F9338730', 'TRAAPIV128F1493132', 'TRAAQBF12903CF796B'],\n",
       "       ['TRAQAMG128F934AED9', 'TRBDNWG12903CC3873', 'TRATDIZ128F4242796'],\n",
       "       ['TRBGYCS128F4277187', 'TRACJPW128F932CA4C', 'TRACKWV128F934B6B0'],\n",
       "       ['TRAGXNU128F932C7D8', 'TRAGETA128F4272C38', 'TRAEUVH128F422559A']], dtype=object)"
      ]
     },
     "execution_count": 115,
     "metadata": {},
     "output_type": "execute_result"
    }
   ],
   "source": [
    "imp_3track_ids = np.array(df.index)[songs_mask]\n",
    "imp_3track_ids"
   ]
  },
  {
   "cell_type": "code",
   "execution_count": 119,
   "metadata": {
    "collapsed": false
   },
   "outputs": [
    {
     "name": "stdout",
     "output_type": "stream",
     "text": [
      "['get', 'ya', 'like', 'nigga', 'shit', 'fuck', 'da', 'yo', 'em', 'yall']\n",
      "\t\"You Gotta Be Movin'\" by Corona\n",
      "\t\"Da Da Da Da\" by Tha Liks\n",
      "\t\"Spelling Beatnuts with Lil' Donny\" by Beatnuts with Lil' Donny\n",
      "['love', 'know', 'want', 'would', 'feel', 'say', 'time', 'never', 'ca', 'see']\n",
      "\t\"It's Not Me\" by 3 Doors Down\n",
      "\t\"Never Alone\" by Open Hand\n",
      "\t\"What You Deserve (Album Version)\" by Ill Nino\n",
      "['victim', 'disconnect', 'p', 'circumst', 'robot', 'ow', 'june', 'leaf', 'balloon', 'aha']\n",
      "\t\"Victim Of Circumstance\" by Ten Years After\n",
      "\t\"Disconnected\" by Cowboy Mouth\n",
      "\t\"CNN War Theme\" by Monster Magnet\n",
      "['like', 'got', 'get', 'make', 'back', 'know', 'go', 'take', 'caus', 'see']\n",
      "\t\"Give It To 'Em\" by Chops\n",
      "\t\"Early In The Morning\" by B.B. King\n",
      "\t\"Hypergasm\" by Chaotica\n",
      "['nah', 'final', 'oi', 'favor', 'spoon', 'dat', 'oper', 'ei', 'possibl', 'metal']\n",
      "\t\"Beni Aglatma\" by Mustafa Sandal\n",
      "\t\"Isku Pitkasta Ilosta\" by Korpiklaani\n",
      "\t\"Iki Tas Corba\" by Mustafa Sandal\n",
      "['na', 'e', 'eu', 'um', 'meu', 'cantar', 'quero', 'pra', 'sem', 'seu']\n",
      "\t\"Meu Bem Meu Mal (Mi Bien Mi Mal)\" by Gal Costa\n",
      "\t\"Pode Me Chamar\" by Eddie\n",
      "\t\"Proibida Pra Mim (Grazon)\" by Zeca Baleiro\n",
      "['volta', 'tenho', 'ficar', 'ond', 'sail', 'sempr', 'lua', 'ann', 'come', 'joe']\n",
      "\t\"Power Shower\" by Caspa\n",
      "\t\"Malice\" by Behemoth\n",
      "\t\"Tocame\" by Gisselle\n",
      "['song', 'man', 'old', 'said', 'stand', 'round', 'jesus', '&', 'goin', 'play']\n",
      "\t\"Whiskey on the Fire\" by Aaron Watson\n",
      "\t\"The way to Peace\" by Uman\n",
      "\t\"Meteor Of War (Album Version)\" by Rancid\n",
      "['babi', 'let', 'go', 'ay', 'take', 'fantasi', 'got', 'ladi', 'blame', 'cant']\n",
      "\t\"Don't Upset The Rhythm (Go Baby Go)\" by Noisettes\n",
      "\t\"Let Me Be Your Fantasy\" by Baby D\n",
      "\t\"What It Takes\" by Aerosmith\n",
      "['ich', 'und', 'du', 'die', 'das', 'dem', 'der', 'nicht', 'ist', 'es']\n",
      "\t\"Mein Herz kann man nicht kaufen\" by Gall_ France\n",
      "\t\"Signapur\" by In Extremo\n",
      "\t\"Denk\" by Samy Deluxe\n",
      "['rain', 'fire', 'chorus', 'heaven', 'black', 'war', 'bottom', 'natur', 'jah', 'savior']\n",
      "\t\"Cursed Angel Of Doom (Previously Unreleased&Re-Recorded Track)\" by Behemoth\n",
      "\t\"Silent Night_ Holy Night! (Album Version)\" by Faith Hill\n",
      "\t\"Autumn's Ablaze (Live)\" by Primordial\n",
      "['cruel', 'bo', 'dum', 'rave', 'mississippi', 'doo', 'bald', 'anch', 'sento', 'pone']\n",
      "\t\"Laakista humppa\" by Elakelaiset\n",
      "\t\"Abagui Alobi\" by Patience Dabany\n",
      "\t\"Un nuovo giorno\" by Cali\n",
      "['dame', 'basta', 'georgia', 'oer', 'bonni', 'ahhh', 'frei', 'vale', 'submit', 'debo']\n",
      "\t\"Ya Basta\" by Jay Perez\n",
      "\t\"No Soy Uno Mas\" by Jose Luis Perales\n",
      "\t\"Ojos Negros\" by Olga Tanon\n",
      "['togeth', 'forev', 'lie', 'anoth', 'help', 'lover', 'fall', 'control', 'u', 'sweet']\n",
      "\t\"Orgofart\" by Descendents\n",
      "\t\"Sweet Lover Hangover\" by Love and Rockets\n",
      "\t\"Charly (Trip Into Drum And Bass Version) (Remastered)\" by The Prodigy\n",
      "['oh', 'hey', 'danc', 'music', 'alright', 'everybodi', 'woman', 'pleas', 'gonna', 'talk']\n",
      "\t\"Alla Fine Di Tutto Questo\" by Fabri Fibra\n",
      "\t\"Jingle Bell Rock\" by Bobby Russell\n",
      "\t\"Ninja Tattoo\" by Shanadoo\n",
      "['come', 'turn', 'sail', 'jame', 'fade', 'weather', 'salli', 'wait', 'field', 'ladder']\n",
      "\t\"River Is Waiting\" by Irma Thomas\n",
      "\t\"Rock On The Radio\" by Firehouse\n",
      "\t\"Coming Undone\" by Tantric\n",
      "['rock', 'roll', 'n', 'chao', 'linda', 'whatcha', 'pig', 'sha', 'scienc', 'glimps']\n",
      "\t\"Myth Takes\" by !!!\n",
      "\t\"Good Rocking Tonight\" by Roy Brown\n",
      "\t\"Roter Rolls Royce\" by Ideal\n",
      "['yeah', 'oh', 'night', 'ah', 'ooh', 'ca', 'whoa', 'take', 'heart', 'away']\n",
      "\t\"Slipping Away\" by Vivian\n",
      "\t\"No More Lonely Nights\" by Fiona\n",
      "\t\"Pianolude\" by Usher\n",
      "['famili', 'trembl', 'cotton', 'negra', 'attitud', 'rocket', 'tempo', 'coal', 'cambiar', 'map']\n",
      "\t\"E Samba (Accapella)\" by Junior Jack\n",
      "\t\"Ulan Bator Girls\" by Leningrad Cowboys\n",
      "\t\"Grandbag's Funeral\" by Happy Mondays\n",
      "['world', 'life', 'god', 'light', 'one', 'lord', 'live', 'see', 'save', 'us']\n",
      "\t\"Facedown\" by Matt Redman\n",
      "\t\"I Will Call Upon the Lord\" by Bill Murk\n",
      "\t\"You Are God (Broken Album Version)\" by Darwin Hobbs\n",
      "['girl', 'gone', 'town', 'night', 'brown', 'left', 'friend', 'mari', 'monday', 'river']\n",
      "\t\"See My Friends\" by Ray Davies\n",
      "\t\"Supreme Girl\" by The Sterns\n",
      "\t\"Meteor Of War (Album Version)\" by Rancid\n",
      "['men', 'till', 'som', 'har', 'kan', 'det', 'ur', 'oo', 'vi', 'vill']\n",
      "\t\"Grottans Barn\" by Finntroll\n",
      "\t\"Alla Mot Alla\" by Kent\n",
      "\t\"Markus sang\" by Kent\n",
      "['la', 'de', 'je', 'et', 'les', 'le', 'pas', 'des', 'un', 'dan']\n",
      "\t\"Ramene Moi\" by Lara Fabian\n",
      "\t\"Laquelle Des Deux Est La Plus Snob\" by Jacques Dutronc\n",
      "\t\"Desole Pour La Poussiere\" by Miossec\n",
      "['saturday', 'sunday', 'friday', 'tuesday', 'sugar', 'envi', 'vain', 'willow', 'niin', 'sua']\n",
      "\t\"Ihmisen Lento\" by Indica\n",
      "\t\"Viimeinen lento\" by Kaija Koo\n",
      "\t\"Sahti Waari\" by Turisas\n",
      "['nuh', 'olvidar', 'sol', 'vultur', 'quedan', 'caso', 'yuh', 'sola', 'sanctuari', 'cae']\n",
      "\t\"Cuatro Estrofas\" by Sandra Mihanovich\n",
      "\t\"Como Olvidar (Merengue Version)\" by Olga Tanon\n",
      "\t\"Get A Straw\" by Lady Saw\n",
      "['que', 'de', 'la', 'te', 'en', 'el', 'mi', 'tu', 'yo', 'es']\n",
      "\t\"Tu Robaste Mi Corazon\" by Selena\n",
      "\t\"Dicen Por Ahi\" by Enrique Iglesias\n",
      "\t\"Te Mentiria\" by Gian Marco\n",
      "['us', 'rememb', 'wish', 'see', 'year', 'thing', 'go', 'christma', 'ride', 'hope']\n",
      "\t\"We Wish You A Merry Christmas\" by SNOWPATROL\n",
      "\t\"What Are We Here For\" by Gary Moore\n",
      "\t\"Have Yourself A Merry Little Christmas\" by Hem\n",
      "['slap', 'satellit', 'pare', 'devour', 'rosa', 'mag', 'diablo', 'pedir', 'vuelto', 'corr']\n",
      "\t\"Slap U Around\" by GWAR\n",
      "\t\"Satellite Of Love (Album Version)\" by Porno For Pyros\n",
      "\t\"En Algun Rincon\" by Cafe Quijano\n",
      "['day', 'eye', 'dream', 'one', 'burn', 'sky', 'night', 'away', 'mind', 'onli']\n",
      "\t\"A Void Of Lifeless Dreams\" by Limbonic Art\n",
      "\t\"Her Golden Robe In Silence Veiled\" by Autumnblaze\n",
      "\t\"Forever Consumed Oblivion\" by Goatwhore\n",
      "['vamo', 'samba', 'tres', 'decay', 'hermano', 'essa', 'mend', 'tuyo', 'creo', 'llego']\n",
      "\t\"E Samba (Accapella)\" by Junior Jack\n",
      "\t\"Rompan Todo\" by 2 Minutos\n",
      "\t\"Hasta El Final\" by La Portuaria\n"
     ]
    }
   ],
   "source": [
    "conn = sqlite3.connect('../../data/MillionSongSubset/AdditionalFiles/subset_track_metadata.db')\n",
    "q = \"SELECT title, artist_name FROM songs WHERE track_id = '{}';\"\n",
    "# q2 = \"SELECT title, artist_name FROM songs WHERE track_id = 'TRAWVWS128F42ADCD1';\"\n",
    "# print q.format(imp_track_ids[0])\n",
    "for track_ids, topic in zip(imp_3track_ids,filtered):\n",
    "    print topic[:10]\n",
    "    formatted = '\\t\"{}\" by {}'\n",
    "    for track_id in track_ids:\n",
    "        song,artist= conn.execute(q.format(track_id)).fetchone()\n",
    "        print formatted.format(unidecode(song), unidecode(artist), topic[0:5])\n",
    "conn.close()"
   ]
  },
  {
   "cell_type": "code",
   "execution_count": null,
   "metadata": {
    "collapsed": true
   },
   "outputs": [],
   "source": []
  }
 ],
 "metadata": {
  "kernelspec": {
   "display_name": "Python 2",
   "language": "python",
   "name": "python2"
  },
  "language_info": {
   "codemirror_mode": {
    "name": "ipython",
    "version": 2
   },
   "file_extension": ".py",
   "mimetype": "text/x-python",
   "name": "python",
   "nbconvert_exporter": "python",
   "pygments_lexer": "ipython2",
   "version": "2.7.11"
  }
 },
 "nbformat": 4,
 "nbformat_minor": 0
}
